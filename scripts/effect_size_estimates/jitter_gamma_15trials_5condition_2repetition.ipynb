{
 "cells": [
  {
   "cell_type": "code",
   "execution_count": 2,
   "metadata": {
    "ExecuteTime": {
     "end_time": "2019-07-14T22:06:35.028096Z",
     "start_time": "2019-07-14T22:06:33.654081Z"
    },
    "collapsed": true
   },
   "outputs": [],
   "source": [
    "import numpy as np\n",
    "import random \n",
    "import matplotlib.pyplot as plt\n",
    "import scipy.special as sps\n",
    "import pandas as pd\n",
    "import itertools\n",
    "import os"
   ]
  },
  {
   "cell_type": "markdown",
   "metadata": {},
   "source": [
    "# gamma distribution"
   ]
  },
  {
   "cell_type": "code",
   "execution_count": 3,
   "metadata": {
    "ExecuteTime": {
     "end_time": "2019-07-14T22:06:36.415193Z",
     "start_time": "2019-07-14T22:06:36.408894Z"
    },
    "collapsed": false
   },
   "outputs": [],
   "source": [
    "shape, scale = 2., 1.5  # mean=4, std=2*sqrt(2)\n",
    "s = np.random.gamma(shape, scale, 1000)"
   ]
  },
  {
   "cell_type": "code",
   "execution_count": 4,
   "metadata": {
    "ExecuteTime": {
     "end_time": "2019-07-14T22:06:37.928320Z",
     "start_time": "2019-07-14T22:06:37.506460Z"
    },
    "collapsed": false
   },
   "outputs": [
    {
     "data": {
      "image/png": "[encoded data removed]",
      "text/plain": [
       "<matplotlib.figure.Figure at 0x10fd18c50>"
      ]
     },
     "metadata": {},
     "output_type": "display_data"
    }
   ],
   "source": [
    "count, bins, ignored = plt.hist(s, 50, normed=True) #density=True\n",
    "y = bins**(shape-1)*(np.exp(-bins/scale) /\n",
    "                     (sps.gamma(shape)*scale**shape))\n",
    "plt.plot(bins, y, linewidth=2, color='r')\n",
    "plt.show()"
   ]
  },
  {
   "cell_type": "raw",
   "metadata": {
    "ExecuteTime": {
     "end_time": "2019-07-14T15:39:07.279227Z",
     "start_time": "2019-07-14T15:39:07.120492Z"
    }
   },
   "source": [
    "almost = np.histogram(s,normed=1)[0]\n",
    "plt.plot(almost,linewidth=2, color='r')\n",
    "plt.show()"
   ]
  },
  {
   "cell_type": "code",
   "execution_count": 5,
   "metadata": {
    "ExecuteTime": {
     "end_time": "2019-07-14T22:06:38.998371Z",
     "start_time": "2019-07-14T22:06:38.986737Z"
    },
    "collapsed": false
   },
   "outputs": [],
   "source": [
    "fixation = random.sample(s, 15)\n",
    "fixation = np.random.choice(s, size=[5,2,15], replace=True)"
   ]
  },
  {
   "cell_type": "code",
   "execution_count": 6,
   "metadata": {
    "ExecuteTime": {
     "end_time": "2019-07-14T22:06:39.493215Z",
     "start_time": "2019-07-14T22:06:39.484901Z"
    },
    "collapsed": false
   },
   "outputs": [
    {
     "data": {
      "text/plain": [
       "array([  3.63220316,   7.37567075,   1.06293598,   4.31387603,\n",
       "         1.26993996,   3.87639921,   2.45910974,   6.73700583,\n",
       "        10.09189907,   2.10428557,   1.98036494,   4.40066541,\n",
       "         4.30279552,   3.97062965,   1.89413099])"
      ]
     },
     "execution_count": 6,
     "metadata": {},
     "output_type": "execute_result"
    }
   ],
   "source": [
    "fixation[4][1]"
   ]
  },
  {
   "cell_type": "code",
   "execution_count": 7,
   "metadata": {
    "ExecuteTime": {
     "end_time": "2019-07-14T22:06:41.023648Z",
     "start_time": "2019-07-14T22:06:40.688581Z"
    },
    "collapsed": false
   },
   "outputs": [
    {
     "data": {
      "image/png": "[encoded data removed]",
      "text/plain": [
       "<matplotlib.figure.Figure at 0x10fd18850>"
      ]
     },
     "metadata": {},
     "output_type": "display_data"
    }
   ],
   "source": [
    "plt.hist(fixation[4][1], bins='auto')  \n",
    "plt.title(\"Histogram with 15 fixation durations randomly selected from gamma dist.\")\n",
    "plt.show()"
   ]
  },
  {
   "cell_type": "markdown",
   "metadata": {
    "ExecuteTime": {
     "end_time": "2019-07-14T18:58:27.521187Z",
     "start_time": "2019-07-14T18:58:27.517197Z"
    }
   },
   "source": [
    "# create pandas dataframe"
   ]
  },
  {
   "cell_type": "code",
   "execution_count": 8,
   "metadata": {
    "ExecuteTime": {
     "end_time": "2019-07-14T22:06:42.262672Z",
     "start_time": "2019-07-14T22:06:42.244854Z"
    },
    "collapsed": false
   },
   "outputs": [],
   "source": [
    "condition_1 = pd.DataFrame()\n",
    "condition_1['fixation'] = fixation[4][1]\n",
    "condition_1['cue'] = 2\n",
    "condition_1['target'] = 1.5\n",
    "condition_1['cue_onset'] = np.nan\n",
    "condition_1['target_onset'] =np.nan\n",
    "condition_1['fixation_onset'] =np.nan"
   ]
  },
  {
   "cell_type": "code",
   "execution_count": 9,
   "metadata": {
    "ExecuteTime": {
     "end_time": "2019-07-14T22:06:44.267635Z",
     "start_time": "2019-07-14T22:06:44.227769Z"
    },
    "collapsed": false
   },
   "outputs": [
    {
     "data": {
      "text/html": [
       "<div>\n",
       "<table border=\"1\" class=\"dataframe\">\n",
       "  <thead>\n",
       "    <tr style=\"text-align: right;\">\n",
       "      <th></th>\n",
       "      <th>fixation</th>\n",
       "      <th>cue</th>\n",
       "      <th>target</th>\n",
       "      <th>cue_onset</th>\n",
       "      <th>target_onset</th>\n",
       "      <th>fixation_onset</th>\n",
       "    </tr>\n",
       "  </thead>\n",
       "  <tbody>\n",
       "    <tr>\n",
       "      <th>0</th>\n",
       "      <td>3.632203</td>\n",
       "      <td>2</td>\n",
       "      <td>1.5</td>\n",
       "      <td>NaN</td>\n",
       "      <td>NaN</td>\n",
       "      <td>NaN</td>\n",
       "    </tr>\n",
       "    <tr>\n",
       "      <th>1</th>\n",
       "      <td>7.375671</td>\n",
       "      <td>2</td>\n",
       "      <td>1.5</td>\n",
       "      <td>NaN</td>\n",
       "      <td>NaN</td>\n",
       "      <td>NaN</td>\n",
       "    </tr>\n",
       "    <tr>\n",
       "      <th>2</th>\n",
       "      <td>1.062936</td>\n",
       "      <td>2</td>\n",
       "      <td>1.5</td>\n",
       "      <td>NaN</td>\n",
       "      <td>NaN</td>\n",
       "      <td>NaN</td>\n",
       "    </tr>\n",
       "    <tr>\n",
       "      <th>3</th>\n",
       "      <td>4.313876</td>\n",
       "      <td>2</td>\n",
       "      <td>1.5</td>\n",
       "      <td>NaN</td>\n",
       "      <td>NaN</td>\n",
       "      <td>NaN</td>\n",
       "    </tr>\n",
       "    <tr>\n",
       "      <th>4</th>\n",
       "      <td>1.269940</td>\n",
       "      <td>2</td>\n",
       "      <td>1.5</td>\n",
       "      <td>NaN</td>\n",
       "      <td>NaN</td>\n",
       "      <td>NaN</td>\n",
       "    </tr>\n",
       "    <tr>\n",
       "      <th>5</th>\n",
       "      <td>3.876399</td>\n",
       "      <td>2</td>\n",
       "      <td>1.5</td>\n",
       "      <td>NaN</td>\n",
       "      <td>NaN</td>\n",
       "      <td>NaN</td>\n",
       "    </tr>\n",
       "    <tr>\n",
       "      <th>6</th>\n",
       "      <td>2.459110</td>\n",
       "      <td>2</td>\n",
       "      <td>1.5</td>\n",
       "      <td>NaN</td>\n",
       "      <td>NaN</td>\n",
       "      <td>NaN</td>\n",
       "    </tr>\n",
       "    <tr>\n",
       "      <th>7</th>\n",
       "      <td>6.737006</td>\n",
       "      <td>2</td>\n",
       "      <td>1.5</td>\n",
       "      <td>NaN</td>\n",
       "      <td>NaN</td>\n",
       "      <td>NaN</td>\n",
       "    </tr>\n",
       "    <tr>\n",
       "      <th>8</th>\n",
       "      <td>10.091899</td>\n",
       "      <td>2</td>\n",
       "      <td>1.5</td>\n",
       "      <td>NaN</td>\n",
       "      <td>NaN</td>\n",
       "      <td>NaN</td>\n",
       "    </tr>\n",
       "    <tr>\n",
       "      <th>9</th>\n",
       "      <td>2.104286</td>\n",
       "      <td>2</td>\n",
       "      <td>1.5</td>\n",
       "      <td>NaN</td>\n",
       "      <td>NaN</td>\n",
       "      <td>NaN</td>\n",
       "    </tr>\n",
       "    <tr>\n",
       "      <th>10</th>\n",
       "      <td>1.980365</td>\n",
       "      <td>2</td>\n",
       "      <td>1.5</td>\n",
       "      <td>NaN</td>\n",
       "      <td>NaN</td>\n",
       "      <td>NaN</td>\n",
       "    </tr>\n",
       "    <tr>\n",
       "      <th>11</th>\n",
       "      <td>4.400665</td>\n",
       "      <td>2</td>\n",
       "      <td>1.5</td>\n",
       "      <td>NaN</td>\n",
       "      <td>NaN</td>\n",
       "      <td>NaN</td>\n",
       "    </tr>\n",
       "    <tr>\n",
       "      <th>12</th>\n",
       "      <td>4.302796</td>\n",
       "      <td>2</td>\n",
       "      <td>1.5</td>\n",
       "      <td>NaN</td>\n",
       "      <td>NaN</td>\n",
       "      <td>NaN</td>\n",
       "    </tr>\n",
       "    <tr>\n",
       "      <th>13</th>\n",
       "      <td>3.970630</td>\n",
       "      <td>2</td>\n",
       "      <td>1.5</td>\n",
       "      <td>NaN</td>\n",
       "      <td>NaN</td>\n",
       "      <td>NaN</td>\n",
       "    </tr>\n",
       "    <tr>\n",
       "      <th>14</th>\n",
       "      <td>1.894131</td>\n",
       "      <td>2</td>\n",
       "      <td>1.5</td>\n",
       "      <td>NaN</td>\n",
       "      <td>NaN</td>\n",
       "      <td>NaN</td>\n",
       "    </tr>\n",
       "  </tbody>\n",
       "</table>\n",
       "</div>"
      ],
      "text/plain": [
       "     fixation  cue  target  cue_onset  target_onset  fixation_onset\n",
       "0    3.632203    2     1.5        NaN           NaN             NaN\n",
       "1    7.375671    2     1.5        NaN           NaN             NaN\n",
       "2    1.062936    2     1.5        NaN           NaN             NaN\n",
       "3    4.313876    2     1.5        NaN           NaN             NaN\n",
       "4    1.269940    2     1.5        NaN           NaN             NaN\n",
       "5    3.876399    2     1.5        NaN           NaN             NaN\n",
       "6    2.459110    2     1.5        NaN           NaN             NaN\n",
       "7    6.737006    2     1.5        NaN           NaN             NaN\n",
       "8   10.091899    2     1.5        NaN           NaN             NaN\n",
       "9    2.104286    2     1.5        NaN           NaN             NaN\n",
       "10   1.980365    2     1.5        NaN           NaN             NaN\n",
       "11   4.400665    2     1.5        NaN           NaN             NaN\n",
       "12   4.302796    2     1.5        NaN           NaN             NaN\n",
       "13   3.970630    2     1.5        NaN           NaN             NaN\n",
       "14   1.894131    2     1.5        NaN           NaN             NaN"
      ]
     },
     "execution_count": 9,
     "metadata": {},
     "output_type": "execute_result"
    }
   ],
   "source": [
    "condition_1"
   ]
  },
  {
   "cell_type": "markdown",
   "metadata": {},
   "source": [
    "---------- >8 --------------------------------------------------"
   ]
  },
  {
   "cell_type": "code",
   "execution_count": 184,
   "metadata": {
    "ExecuteTime": {
     "end_time": "2019-07-14T16:27:55.125615Z",
     "start_time": "2019-07-14T16:27:55.088418Z"
    },
    "collapsed": false
   },
   "outputs": [],
   "source": [
    "for index, row in itertools.islice(condition_1.iterrows(), 0, None):\n",
    "#     condition_1.iloc[0 'fixation_onset'] = condition_1[0,'fixation']\n",
    "    condition_1.loc[index,'cue_onset'] = row.fixation_onset + row.cue\n",
    "    condition_1.loc[index,'target_onset'] = row.cue_onset + row.target\n",
    "    condition_1.loc[index,'fixation_onset'] = row.fixation + row.target_onset"
   ]
  },
  {
   "cell_type": "code",
   "execution_count": 192,
   "metadata": {
    "ExecuteTime": {
     "end_time": "2019-07-14T16:35:19.489781Z",
     "start_time": "2019-07-14T16:35:19.472536Z"
    },
    "collapsed": false
   },
   "outputs": [],
   "source": [
    "condition_1\n",
    "# fixation onset 0\n",
    "condition_1.loc[0,'fixation_onset'] = condition_1.loc[0,'fixation'].copy()\n",
    "# cue onset 0\n",
    "condition_1.loc[0,'cue_onset'] = condition_1.loc[0,'fixation_onset'].copy() + 2\n",
    "# target onset 0\n",
    "condition_1.loc[0,'target_onset'] = condition_1.loc[0,'cue_onset'].copy() + 1.5\n",
    "# target onset 0 + fixation 1\n",
    "\n",
    "condition_1['target_shifted'] = condition_1.target_onset.shift()\n",
    "compared = pd.concat([condition_1['fixation'] + condition_1['target_shifted']], axis=1)\n",
    "\n",
    "condition_1['S'] = compared.min(axis=1)"
   ]
  },
  {
   "cell_type": "markdown",
   "metadata": {},
   "source": [
    "---------- >8 --------------------------------------------------"
   ]
  },
  {
   "cell_type": "markdown",
   "metadata": {},
   "source": [
    "# randomize conditions"
   ]
  },
  {
   "cell_type": "code",
   "execution_count": 10,
   "metadata": {
    "ExecuteTime": {
     "end_time": "2019-07-14T22:06:50.766578Z",
     "start_time": "2019-07-14T22:06:50.761391Z"
    },
    "collapsed": true
   },
   "outputs": [],
   "source": [
    "trials = [np.repeat('con',8) , np.repeat('incon',2) , np.repeat('neu',5)]"
   ]
  },
  {
   "cell_type": "code",
   "execution_count": 11,
   "metadata": {
    "ExecuteTime": {
     "end_time": "2019-07-14T22:06:51.280458Z",
     "start_time": "2019-07-14T22:06:51.273905Z"
    },
    "collapsed": false
   },
   "outputs": [],
   "source": [
    "C = list(itertools.repeat('con', 8))\n",
    "I = list(itertools.repeat('incon', 2))\n",
    "N = list(itertools.repeat('neu', 5))\n",
    "trials = C + I + N"
   ]
  },
  {
   "cell_type": "code",
   "execution_count": 12,
   "metadata": {
    "ExecuteTime": {
     "end_time": "2019-07-14T22:06:51.759567Z",
     "start_time": "2019-07-14T22:06:51.755304Z"
    },
    "collapsed": false
   },
   "outputs": [],
   "source": [
    "random.shuffle(trials)"
   ]
  },
  {
   "cell_type": "code",
   "execution_count": 13,
   "metadata": {
    "ExecuteTime": {
     "end_time": "2019-07-14T22:06:53.079097Z",
     "start_time": "2019-07-14T22:06:53.071269Z"
    },
    "collapsed": false
   },
   "outputs": [],
   "source": [
    "random.shuffle(trials)\n",
    "df = pd.DataFrame()\n",
    "df['trial_type'] = trials"
   ]
  },
  {
   "cell_type": "markdown",
   "metadata": {},
   "source": [
    "# create EV files"
   ]
  },
  {
   "cell_type": "code",
   "execution_count": 14,
   "metadata": {
    "ExecuteTime": {
     "end_time": "2019-07-14T22:06:54.935036Z",
     "start_time": "2019-07-14T22:06:54.744748Z"
    },
    "collapsed": false
   },
   "outputs": [],
   "source": [
    "cue_onset_neu = pd.DataFrame()\n",
    "cue_onset_con = pd.DataFrame()\n",
    "cue_onset_incon = pd.DataFrame()\n",
    "target_onset_neu = pd.DataFrame()\n",
    "target_onset_con = pd.DataFrame()\n",
    "target_onset_incon = pd.DataFrame()\n",
    "# for index in range(1,11):\n",
    "index = 1   \n",
    "sheetname = 'c' + str(index)\n",
    "# load xlsx\n",
    "df = pd.read_excel('/Users/h/Dropbox/Projects/SI.01/coding/design/onset_time.xlsx', sheet_name = sheetname)\n",
    "\n",
    "# create separate pandas\n",
    "# d = {index: label for index, label in df.groupby('trial_type')}\n",
    "d = {k: df[df['trial_type'] == k] for k in df['trial_type'].unique()}\n",
    "# create EV files based on sheet\n",
    "\n",
    "# 6 files\n",
    "# CUE ____________________\n",
    "# cue_onset neu\n",
    "cue_onset_neu['onset'] = d['neu']['cue_onset'].copy().reset_index(drop=True)\n",
    "cue_onset_neu['duration'] = 2\n",
    "cue_onset_neu['magnitude'] = 1\n",
    "# cue_onset con\n",
    "cue_onset_con['onset'] = d['con']['cue_onset'].copy().reset_index(drop=True)\n",
    "cue_onset_con['duration'] = 2\n",
    "cue_onset_con['magnitude'] = 1\n",
    "# cue_onset incon\n",
    "cue_onset_incon['onset'] = d['incon']['cue_onset'].copy().reset_index(drop=True)\n",
    "cue_onset_incon['duration'] = 2\n",
    "cue_onset_incon['magnitude'] = 1\n",
    "\n",
    "# TARGET ____________________\n",
    "# target_onset neu\n",
    "target_onset_neu['onset'] = d['neu']['target_onset'].copy().reset_index(drop=True)\n",
    "target_onset_neu['duration'] = 1.5\n",
    "target_onset_neu['magnitude'] = 1\n",
    "# target_onset con\n",
    "target_onset_con['onset'] = d['con']['target_onset'].copy().reset_index(drop=True)\n",
    "target_onset_con['duration'] = 1.5\n",
    "target_onset_con['magnitude'] = 1\n",
    "# target_onset incon\n",
    "target_onset_incon['onset'] = d['incon']['target_onset'].copy().reset_index(drop=True)\n",
    "target_onset_incon['duration'] = 1.5\n",
    "target_onset_incon['magnitude'] = 1\n",
    "\n",
    "# SAVE _________________________\n",
    "sub_run_dir = '/Users/h/Dropbox/Projects/SI.01/coding/data/sub-01/run-01'\n",
    "cue_onset_neu_fname = os.sep.join([sub_run_dir, 'face_CUE_neu.txt'])\n",
    "cue_onset_neu.to_csv(cue_onset_neu_fname, index = False, header = False, sep = '\\t')\n",
    "\n",
    "cue_onset_con_fname = os.sep.join([sub_run_dir, 'face_CUE_con.txt'])\n",
    "cue_onset_con.to_csv(cue_onset_con_fname, index = False, header = False, sep = '\\t')\n",
    "\n",
    "cue_onset_incon_fname = os.sep.join([sub_run_dir, 'face_CUE_incon.txt'])\n",
    "cue_onset_incon.to_csv(cue_onset_incon_fname, index = False, header = False, sep = '\\t')\n",
    "\n",
    "target_onset_neu_fname = os.sep.join([sub_run_dir, 'face_TARGET_neu.txt'])\n",
    "target_onset_neu.to_csv(target_onset_neu_fname, index = False, header = False, sep = '\\t')\n",
    "\n",
    "target_onset_con_fname = os.sep.join([sub_run_dir, 'face_TARGET_con.txt'])\n",
    "target_onset_con.to_csv(target_onset_con_fname, index = False, header = False, sep = '\\t')\n",
    "\n",
    "target_onset_incon_fname = os.sep.join([sub_run_dir, 'face_TARGET_incon.txt'])\n",
    "target_onset_incon.to_csv(target_onset_incon_fname, index = False, header = False, sep = '\\t')"
   ]
  },
  {
   "cell_type": "code",
   "execution_count": 15,
   "metadata": {
    "ExecuteTime": {
     "end_time": "2019-07-14T22:06:55.950500Z",
     "start_time": "2019-07-14T22:06:55.924404Z"
    },
    "collapsed": false
   },
   "outputs": [
    {
     "data": {
      "text/html": [
       "<div>\n",
       "<table border=\"1\" class=\"dataframe\">\n",
       "  <thead>\n",
       "    <tr style=\"text-align: right;\">\n",
       "      <th></th>\n",
       "      <th>fixation</th>\n",
       "      <th>cue</th>\n",
       "      <th>target</th>\n",
       "      <th>fixation_onset</th>\n",
       "      <th>cue_onset</th>\n",
       "      <th>target_onset</th>\n",
       "      <th>trial_type</th>\n",
       "    </tr>\n",
       "  </thead>\n",
       "  <tbody>\n",
       "    <tr>\n",
       "      <th>2</th>\n",
       "      <td>3.110786</td>\n",
       "      <td>2</td>\n",
       "      <td>1.5</td>\n",
       "      <td>12.586643</td>\n",
       "      <td>14.586643</td>\n",
       "      <td>16.086643</td>\n",
       "      <td>neu</td>\n",
       "    </tr>\n",
       "    <tr>\n",
       "      <th>5</th>\n",
       "      <td>1.149081</td>\n",
       "      <td>2</td>\n",
       "      <td>1.5</td>\n",
       "      <td>32.557437</td>\n",
       "      <td>34.557437</td>\n",
       "      <td>36.057437</td>\n",
       "      <td>neu</td>\n",
       "    </tr>\n",
       "    <tr>\n",
       "      <th>6</th>\n",
       "      <td>6.409093</td>\n",
       "      <td>2</td>\n",
       "      <td>1.5</td>\n",
       "      <td>42.466530</td>\n",
       "      <td>44.466530</td>\n",
       "      <td>45.966530</td>\n",
       "      <td>neu</td>\n",
       "    </tr>\n",
       "    <tr>\n",
       "      <th>10</th>\n",
       "      <td>2.622609</td>\n",
       "      <td>2</td>\n",
       "      <td>1.5</td>\n",
       "      <td>65.411824</td>\n",
       "      <td>67.411824</td>\n",
       "      <td>68.911824</td>\n",
       "      <td>neu</td>\n",
       "    </tr>\n",
       "    <tr>\n",
       "      <th>14</th>\n",
       "      <td>1.156500</td>\n",
       "      <td>2</td>\n",
       "      <td>1.5</td>\n",
       "      <td>94.599945</td>\n",
       "      <td>96.599945</td>\n",
       "      <td>98.099945</td>\n",
       "      <td>neu</td>\n",
       "    </tr>\n",
       "  </tbody>\n",
       "</table>\n",
       "</div>"
      ],
      "text/plain": [
       "    fixation  cue  target  fixation_onset  cue_onset  target_onset trial_type\n",
       "2   3.110786    2     1.5       12.586643  14.586643     16.086643        neu\n",
       "5   1.149081    2     1.5       32.557437  34.557437     36.057437        neu\n",
       "6   6.409093    2     1.5       42.466530  44.466530     45.966530        neu\n",
       "10  2.622609    2     1.5       65.411824  67.411824     68.911824        neu\n",
       "14  1.156500    2     1.5       94.599945  96.599945     98.099945        neu"
      ]
     },
     "execution_count": 15,
     "metadata": {},
     "output_type": "execute_result"
    }
   ],
   "source": [
    "d['neu']"
   ]
  },
  {
   "cell_type": "code",
   "execution_count": 16,
   "metadata": {
    "ExecuteTime": {
     "end_time": "2019-07-14T22:06:57.185835Z",
     "start_time": "2019-07-14T22:06:57.173297Z"
    },
    "collapsed": false
   },
   "outputs": [
    {
     "data": {
      "text/plain": [
       "0    58.820807\n",
       "1    82.886027\n",
       "Name: onset, dtype: float64"
      ]
     },
     "execution_count": 16,
     "metadata": {},
     "output_type": "execute_result"
    }
   ],
   "source": [
    "cue_onset_neu['onset']\n",
    "cue_onset_con['onset']\n",
    "cue_onset_incon['onset']\n",
    "target_onset_neu['onset']\n",
    "target_onset_con['onset']\n",
    "target_onset_incon['onset']"
   ]
  },
  {
   "cell_type": "code",
   "execution_count": 22,
   "metadata": {
    "ExecuteTime": {
     "end_time": "2019-07-14T22:07:36.150940Z",
     "start_time": "2019-07-14T22:07:36.143234Z"
    },
    "collapsed": false
   },
   "outputs": [
    {
     "data": {
      "text/plain": [
       "3.0399963333333337"
      ]
     },
     "execution_count": 22,
     "metadata": {},
     "output_type": "execute_result"
    }
   ],
   "source": [
    "np.mean(df.fixation)"
   ]
  },
  {
   "cell_type": "code",
   "execution_count": null,
   "metadata": {
    "collapsed": true
   },
   "outputs": [],
   "source": []
  }
 ],
 "metadata": {
  "anaconda-cloud": {},
  "kernelspec": {
   "display_name": "Python [conda env:anaconda2]",
   "language": "python",
   "name": "conda-env-anaconda2-py"
  },
  "language_info": {
   "codemirror_mode": {
    "name": "ipython",
    "version": 2
   },
   "file_extension": ".py",
   "mimetype": "text/x-python",
   "name": "python",
   "nbconvert_exporter": "python",
   "pygments_lexer": "ipython2",
   "version": "2.7.6"
  },
  "toc": {
   "colors": {
    "hover_highlight": "#DAA520",
    "running_highlight": "#FF0000",
    "selected_highlight": "#FFD700"
   },
   "moveMenuLeft": true,
   "nav_menu": {
    "height": "86px",
    "width": "252px"
   },
   "navigate_menu": true,
   "number_sections": true,
   "sideBar": true,
   "threshold": 4,
   "toc_cell": false,
   "toc_section_display": "block",
   "toc_window_display": true,
   "widenNotebook": false
  }
 },
 "nbformat": 4,
 "nbformat_minor": 2
}
