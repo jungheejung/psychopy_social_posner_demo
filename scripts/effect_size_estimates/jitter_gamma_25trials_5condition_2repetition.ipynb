{
 "cells": [
  {
   "cell_type": "code",
   "execution_count": 1,
   "metadata": {
    "ExecuteTime": {
     "end_time": "2019-07-14T22:10:55.997046Z",
     "start_time": "2019-07-14T22:10:53.527183Z"
    },
    "collapsed": true
   },
   "outputs": [],
   "source": [
    "import numpy as np\n",
    "import random \n",
    "import matplotlib.pyplot as plt\n",
    "import scipy.special as sps\n",
    "import pandas as pd\n",
    "import itertools\n",
    "import os"
   ]
  },
  {
   "cell_type": "markdown",
   "metadata": {},
   "source": [
    "# gamma distribution"
   ]
  },
  {
   "cell_type": "code",
   "execution_count": 2,
   "metadata": {
    "ExecuteTime": {
     "end_time": "2019-07-14T22:10:56.014344Z",
     "start_time": "2019-07-14T22:10:56.006061Z"
    },
    "collapsed": false
   },
   "outputs": [],
   "source": [
    "shape, scale = 2., 1.5  # mean=4, std=2*sqrt(2)\n",
    "s = np.random.gamma(shape, scale, 1000)"
   ]
  },
  {
   "cell_type": "code",
   "execution_count": 3,
   "metadata": {
    "ExecuteTime": {
     "end_time": "2019-07-14T22:10:56.725005Z",
     "start_time": "2019-07-14T22:10:56.024220Z"
    },
    "collapsed": false
   },
   "outputs": [
    {
     "data": {
      "image/png": "[encoded data removed]",
      "text/plain": [
       "<matplotlib.figure.Figure at 0x10f3d0850>"
      ]
     },
     "metadata": {},
     "output_type": "display_data"
    }
   ],
   "source": [
    "count, bins, ignored = plt.hist(s, 50, normed=True) #density=True\n",
    "y = bins**(shape-1)*(np.exp(-bins/scale) /\n",
    "                     (sps.gamma(shape)*scale**shape))\n",
    "plt.plot(bins, y, linewidth=2, color='r')\n",
    "plt.show()"
   ]
  },
  {
   "cell_type": "code",
   "execution_count": 23,
   "metadata": {
    "ExecuteTime": {
     "end_time": "2019-07-14T22:15:44.952580Z",
     "start_time": "2019-07-14T22:15:44.945902Z"
    },
    "collapsed": false
   },
   "outputs": [],
   "source": [
    "fixation = random.sample(s, 30)\n",
    "fixation = np.random.choice(s, size=[5,2,30], replace=True)"
   ]
  },
  {
   "cell_type": "code",
   "execution_count": 33,
   "metadata": {
    "ExecuteTime": {
     "end_time": "2019-07-14T22:25:46.810915Z",
     "start_time": "2019-07-14T22:25:46.803985Z"
    },
    "collapsed": false
   },
   "outputs": [
    {
     "data": {
      "text/plain": [
       "883.45090654798855"
      ]
     },
     "execution_count": 33,
     "metadata": {},
     "output_type": "execute_result"
    }
   ],
   "source": [
    "sum(sum(sum(fixation)))"
   ]
  },
  {
   "cell_type": "code",
   "execution_count": 24,
   "metadata": {
    "ExecuteTime": {
     "end_time": "2019-07-14T22:15:45.945350Z",
     "start_time": "2019-07-14T22:15:45.936428Z"
    },
    "collapsed": false
   },
   "outputs": [
    {
     "data": {
      "text/plain": [
       "array([  1.63510478,   0.8951117 ,   0.91393   ,   0.81042952,\n",
       "         0.31973814,   0.98002912,   3.77834489,   1.91181408,\n",
       "         1.3490727 ,   3.64461383,   1.10785276,   4.41508725,\n",
       "         7.21082579,  13.49511066,   6.39773067,   3.89487533,\n",
       "         1.48015156,   1.01789187,   2.78645799,   0.89211229,\n",
       "         6.60067489,   1.61399981,   9.72346719,   2.59266639,\n",
       "         3.12297217,   0.34576642,   1.31791995,   6.18952232,\n",
       "         3.43433548,   3.71453571])"
      ]
     },
     "execution_count": 24,
     "metadata": {},
     "output_type": "execute_result"
    }
   ],
   "source": [
    "fixation[4][1]"
   ]
  },
  {
   "cell_type": "code",
   "execution_count": 25,
   "metadata": {
    "ExecuteTime": {
     "end_time": "2019-07-14T22:15:48.102623Z",
     "start_time": "2019-07-14T22:15:47.793463Z"
    },
    "collapsed": false
   },
   "outputs": [
    {
     "data": {
      "image/png": "[encoded data removed]",
      "text/plain": [
       "<matplotlib.figure.Figure at 0x1121256d0>"
      ]
     },
     "metadata": {},
     "output_type": "display_data"
    }
   ],
   "source": [
    "plt.hist(fixation[4][1], bins='auto')  \n",
    "plt.title(\"Histogram with 15 fixation durations randomly selected from gamma dist.\")\n",
    "plt.show()"
   ]
  },
  {
   "cell_type": "markdown",
   "metadata": {
    "ExecuteTime": {
     "end_time": "2019-07-14T18:58:27.521187Z",
     "start_time": "2019-07-14T18:58:27.517197Z"
    }
   },
   "source": [
    "# create pandas dataframe"
   ]
  },
  {
   "cell_type": "code",
   "execution_count": 26,
   "metadata": {
    "ExecuteTime": {
     "end_time": "2019-07-14T22:15:49.969125Z",
     "start_time": "2019-07-14T22:15:49.956038Z"
    },
    "collapsed": false
   },
   "outputs": [],
   "source": [
    "condition_1 = pd.DataFrame()\n",
    "condition_1['fixation'] = fixation[4][1]\n",
    "condition_1['cue'] = 2\n",
    "condition_1['target'] = 1.5\n",
    "condition_1['cue_onset'] = np.nan\n",
    "condition_1['target_onset'] =np.nan\n",
    "condition_1['fixation_onset'] =np.nan"
   ]
  },
  {
   "cell_type": "code",
   "execution_count": 27,
   "metadata": {
    "ExecuteTime": {
     "end_time": "2019-07-14T22:15:51.224292Z",
     "start_time": "2019-07-14T22:15:51.176513Z"
    },
    "collapsed": false
   },
   "outputs": [
    {
     "data": {
      "text/html": [
       "<div>\n",
       "<table border=\"1\" class=\"dataframe\">\n",
       "  <thead>\n",
       "    <tr style=\"text-align: right;\">\n",
       "      <th></th>\n",
       "      <th>fixation</th>\n",
       "      <th>cue</th>\n",
       "      <th>target</th>\n",
       "      <th>cue_onset</th>\n",
       "      <th>target_onset</th>\n",
       "      <th>fixation_onset</th>\n",
       "    </tr>\n",
       "  </thead>\n",
       "  <tbody>\n",
       "    <tr>\n",
       "      <th>0</th>\n",
       "      <td>1.635105</td>\n",
       "      <td>2</td>\n",
       "      <td>1.5</td>\n",
       "      <td>NaN</td>\n",
       "      <td>NaN</td>\n",
       "      <td>NaN</td>\n",
       "    </tr>\n",
       "    <tr>\n",
       "      <th>1</th>\n",
       "      <td>0.895112</td>\n",
       "      <td>2</td>\n",
       "      <td>1.5</td>\n",
       "      <td>NaN</td>\n",
       "      <td>NaN</td>\n",
       "      <td>NaN</td>\n",
       "    </tr>\n",
       "    <tr>\n",
       "      <th>2</th>\n",
       "      <td>0.913930</td>\n",
       "      <td>2</td>\n",
       "      <td>1.5</td>\n",
       "      <td>NaN</td>\n",
       "      <td>NaN</td>\n",
       "      <td>NaN</td>\n",
       "    </tr>\n",
       "    <tr>\n",
       "      <th>3</th>\n",
       "      <td>0.810430</td>\n",
       "      <td>2</td>\n",
       "      <td>1.5</td>\n",
       "      <td>NaN</td>\n",
       "      <td>NaN</td>\n",
       "      <td>NaN</td>\n",
       "    </tr>\n",
       "    <tr>\n",
       "      <th>4</th>\n",
       "      <td>0.319738</td>\n",
       "      <td>2</td>\n",
       "      <td>1.5</td>\n",
       "      <td>NaN</td>\n",
       "      <td>NaN</td>\n",
       "      <td>NaN</td>\n",
       "    </tr>\n",
       "    <tr>\n",
       "      <th>5</th>\n",
       "      <td>0.980029</td>\n",
       "      <td>2</td>\n",
       "      <td>1.5</td>\n",
       "      <td>NaN</td>\n",
       "      <td>NaN</td>\n",
       "      <td>NaN</td>\n",
       "    </tr>\n",
       "    <tr>\n",
       "      <th>6</th>\n",
       "      <td>3.778345</td>\n",
       "      <td>2</td>\n",
       "      <td>1.5</td>\n",
       "      <td>NaN</td>\n",
       "      <td>NaN</td>\n",
       "      <td>NaN</td>\n",
       "    </tr>\n",
       "    <tr>\n",
       "      <th>7</th>\n",
       "      <td>1.911814</td>\n",
       "      <td>2</td>\n",
       "      <td>1.5</td>\n",
       "      <td>NaN</td>\n",
       "      <td>NaN</td>\n",
       "      <td>NaN</td>\n",
       "    </tr>\n",
       "    <tr>\n",
       "      <th>8</th>\n",
       "      <td>1.349073</td>\n",
       "      <td>2</td>\n",
       "      <td>1.5</td>\n",
       "      <td>NaN</td>\n",
       "      <td>NaN</td>\n",
       "      <td>NaN</td>\n",
       "    </tr>\n",
       "    <tr>\n",
       "      <th>9</th>\n",
       "      <td>3.644614</td>\n",
       "      <td>2</td>\n",
       "      <td>1.5</td>\n",
       "      <td>NaN</td>\n",
       "      <td>NaN</td>\n",
       "      <td>NaN</td>\n",
       "    </tr>\n",
       "    <tr>\n",
       "      <th>10</th>\n",
       "      <td>1.107853</td>\n",
       "      <td>2</td>\n",
       "      <td>1.5</td>\n",
       "      <td>NaN</td>\n",
       "      <td>NaN</td>\n",
       "      <td>NaN</td>\n",
       "    </tr>\n",
       "    <tr>\n",
       "      <th>11</th>\n",
       "      <td>4.415087</td>\n",
       "      <td>2</td>\n",
       "      <td>1.5</td>\n",
       "      <td>NaN</td>\n",
       "      <td>NaN</td>\n",
       "      <td>NaN</td>\n",
       "    </tr>\n",
       "    <tr>\n",
       "      <th>12</th>\n",
       "      <td>7.210826</td>\n",
       "      <td>2</td>\n",
       "      <td>1.5</td>\n",
       "      <td>NaN</td>\n",
       "      <td>NaN</td>\n",
       "      <td>NaN</td>\n",
       "    </tr>\n",
       "    <tr>\n",
       "      <th>13</th>\n",
       "      <td>13.495111</td>\n",
       "      <td>2</td>\n",
       "      <td>1.5</td>\n",
       "      <td>NaN</td>\n",
       "      <td>NaN</td>\n",
       "      <td>NaN</td>\n",
       "    </tr>\n",
       "    <tr>\n",
       "      <th>14</th>\n",
       "      <td>6.397731</td>\n",
       "      <td>2</td>\n",
       "      <td>1.5</td>\n",
       "      <td>NaN</td>\n",
       "      <td>NaN</td>\n",
       "      <td>NaN</td>\n",
       "    </tr>\n",
       "    <tr>\n",
       "      <th>15</th>\n",
       "      <td>3.894875</td>\n",
       "      <td>2</td>\n",
       "      <td>1.5</td>\n",
       "      <td>NaN</td>\n",
       "      <td>NaN</td>\n",
       "      <td>NaN</td>\n",
       "    </tr>\n",
       "    <tr>\n",
       "      <th>16</th>\n",
       "      <td>1.480152</td>\n",
       "      <td>2</td>\n",
       "      <td>1.5</td>\n",
       "      <td>NaN</td>\n",
       "      <td>NaN</td>\n",
       "      <td>NaN</td>\n",
       "    </tr>\n",
       "    <tr>\n",
       "      <th>17</th>\n",
       "      <td>1.017892</td>\n",
       "      <td>2</td>\n",
       "      <td>1.5</td>\n",
       "      <td>NaN</td>\n",
       "      <td>NaN</td>\n",
       "      <td>NaN</td>\n",
       "    </tr>\n",
       "    <tr>\n",
       "      <th>18</th>\n",
       "      <td>2.786458</td>\n",
       "      <td>2</td>\n",
       "      <td>1.5</td>\n",
       "      <td>NaN</td>\n",
       "      <td>NaN</td>\n",
       "      <td>NaN</td>\n",
       "    </tr>\n",
       "    <tr>\n",
       "      <th>19</th>\n",
       "      <td>0.892112</td>\n",
       "      <td>2</td>\n",
       "      <td>1.5</td>\n",
       "      <td>NaN</td>\n",
       "      <td>NaN</td>\n",
       "      <td>NaN</td>\n",
       "    </tr>\n",
       "    <tr>\n",
       "      <th>20</th>\n",
       "      <td>6.600675</td>\n",
       "      <td>2</td>\n",
       "      <td>1.5</td>\n",
       "      <td>NaN</td>\n",
       "      <td>NaN</td>\n",
       "      <td>NaN</td>\n",
       "    </tr>\n",
       "    <tr>\n",
       "      <th>21</th>\n",
       "      <td>1.614000</td>\n",
       "      <td>2</td>\n",
       "      <td>1.5</td>\n",
       "      <td>NaN</td>\n",
       "      <td>NaN</td>\n",
       "      <td>NaN</td>\n",
       "    </tr>\n",
       "    <tr>\n",
       "      <th>22</th>\n",
       "      <td>9.723467</td>\n",
       "      <td>2</td>\n",
       "      <td>1.5</td>\n",
       "      <td>NaN</td>\n",
       "      <td>NaN</td>\n",
       "      <td>NaN</td>\n",
       "    </tr>\n",
       "    <tr>\n",
       "      <th>23</th>\n",
       "      <td>2.592666</td>\n",
       "      <td>2</td>\n",
       "      <td>1.5</td>\n",
       "      <td>NaN</td>\n",
       "      <td>NaN</td>\n",
       "      <td>NaN</td>\n",
       "    </tr>\n",
       "    <tr>\n",
       "      <th>24</th>\n",
       "      <td>3.122972</td>\n",
       "      <td>2</td>\n",
       "      <td>1.5</td>\n",
       "      <td>NaN</td>\n",
       "      <td>NaN</td>\n",
       "      <td>NaN</td>\n",
       "    </tr>\n",
       "    <tr>\n",
       "      <th>25</th>\n",
       "      <td>0.345766</td>\n",
       "      <td>2</td>\n",
       "      <td>1.5</td>\n",
       "      <td>NaN</td>\n",
       "      <td>NaN</td>\n",
       "      <td>NaN</td>\n",
       "    </tr>\n",
       "    <tr>\n",
       "      <th>26</th>\n",
       "      <td>1.317920</td>\n",
       "      <td>2</td>\n",
       "      <td>1.5</td>\n",
       "      <td>NaN</td>\n",
       "      <td>NaN</td>\n",
       "      <td>NaN</td>\n",
       "    </tr>\n",
       "    <tr>\n",
       "      <th>27</th>\n",
       "      <td>6.189522</td>\n",
       "      <td>2</td>\n",
       "      <td>1.5</td>\n",
       "      <td>NaN</td>\n",
       "      <td>NaN</td>\n",
       "      <td>NaN</td>\n",
       "    </tr>\n",
       "    <tr>\n",
       "      <th>28</th>\n",
       "      <td>3.434335</td>\n",
       "      <td>2</td>\n",
       "      <td>1.5</td>\n",
       "      <td>NaN</td>\n",
       "      <td>NaN</td>\n",
       "      <td>NaN</td>\n",
       "    </tr>\n",
       "    <tr>\n",
       "      <th>29</th>\n",
       "      <td>3.714536</td>\n",
       "      <td>2</td>\n",
       "      <td>1.5</td>\n",
       "      <td>NaN</td>\n",
       "      <td>NaN</td>\n",
       "      <td>NaN</td>\n",
       "    </tr>\n",
       "  </tbody>\n",
       "</table>\n",
       "</div>"
      ],
      "text/plain": [
       "     fixation  cue  target  cue_onset  target_onset  fixation_onset\n",
       "0    1.635105    2     1.5        NaN           NaN             NaN\n",
       "1    0.895112    2     1.5        NaN           NaN             NaN\n",
       "2    0.913930    2     1.5        NaN           NaN             NaN\n",
       "3    0.810430    2     1.5        NaN           NaN             NaN\n",
       "4    0.319738    2     1.5        NaN           NaN             NaN\n",
       "5    0.980029    2     1.5        NaN           NaN             NaN\n",
       "6    3.778345    2     1.5        NaN           NaN             NaN\n",
       "7    1.911814    2     1.5        NaN           NaN             NaN\n",
       "8    1.349073    2     1.5        NaN           NaN             NaN\n",
       "9    3.644614    2     1.5        NaN           NaN             NaN\n",
       "10   1.107853    2     1.5        NaN           NaN             NaN\n",
       "11   4.415087    2     1.5        NaN           NaN             NaN\n",
       "12   7.210826    2     1.5        NaN           NaN             NaN\n",
       "13  13.495111    2     1.5        NaN           NaN             NaN\n",
       "14   6.397731    2     1.5        NaN           NaN             NaN\n",
       "15   3.894875    2     1.5        NaN           NaN             NaN\n",
       "16   1.480152    2     1.5        NaN           NaN             NaN\n",
       "17   1.017892    2     1.5        NaN           NaN             NaN\n",
       "18   2.786458    2     1.5        NaN           NaN             NaN\n",
       "19   0.892112    2     1.5        NaN           NaN             NaN\n",
       "20   6.600675    2     1.5        NaN           NaN             NaN\n",
       "21   1.614000    2     1.5        NaN           NaN             NaN\n",
       "22   9.723467    2     1.5        NaN           NaN             NaN\n",
       "23   2.592666    2     1.5        NaN           NaN             NaN\n",
       "24   3.122972    2     1.5        NaN           NaN             NaN\n",
       "25   0.345766    2     1.5        NaN           NaN             NaN\n",
       "26   1.317920    2     1.5        NaN           NaN             NaN\n",
       "27   6.189522    2     1.5        NaN           NaN             NaN\n",
       "28   3.434335    2     1.5        NaN           NaN             NaN\n",
       "29   3.714536    2     1.5        NaN           NaN             NaN"
      ]
     },
     "execution_count": 27,
     "metadata": {},
     "output_type": "execute_result"
    }
   ],
   "source": [
    "condition_1"
   ]
  },
  {
   "cell_type": "markdown",
   "metadata": {},
   "source": [
    "---------- >8 --------------------------------------------------"
   ]
  },
  {
   "cell_type": "markdown",
   "metadata": {},
   "source": [
    "---------- >8 --------------------------------------------------"
   ]
  },
  {
   "cell_type": "markdown",
   "metadata": {},
   "source": [
    "# randomize conditions"
   ]
  },
  {
   "cell_type": "code",
   "execution_count": 18,
   "metadata": {
    "ExecuteTime": {
     "end_time": "2019-07-14T22:14:55.129571Z",
     "start_time": "2019-07-14T22:14:55.124893Z"
    },
    "collapsed": true
   },
   "outputs": [],
   "source": [
    "trials = [np.repeat('con',16) , np.repeat('incon',4) , np.repeat('neu',10)]"
   ]
  },
  {
   "cell_type": "code",
   "execution_count": 19,
   "metadata": {
    "ExecuteTime": {
     "end_time": "2019-07-14T22:14:55.651526Z",
     "start_time": "2019-07-14T22:14:55.645112Z"
    },
    "collapsed": false
   },
   "outputs": [],
   "source": [
    "C = list(itertools.repeat('con', 16))\n",
    "I = list(itertools.repeat('incon', 4))\n",
    "N = list(itertools.repeat('neu', 10))\n",
    "trials = C + I + N"
   ]
  },
  {
   "cell_type": "code",
   "execution_count": 20,
   "metadata": {
    "ExecuteTime": {
     "end_time": "2019-07-14T22:14:56.153098Z",
     "start_time": "2019-07-14T22:14:56.148572Z"
    },
    "collapsed": false
   },
   "outputs": [],
   "source": [
    "random.shuffle(trials)"
   ]
  },
  {
   "cell_type": "code",
   "execution_count": 21,
   "metadata": {
    "ExecuteTime": {
     "end_time": "2019-07-14T22:14:56.718086Z",
     "start_time": "2019-07-14T22:14:56.710061Z"
    },
    "collapsed": false
   },
   "outputs": [],
   "source": [
    "random.shuffle(trials)\n",
    "df = pd.DataFrame()\n",
    "df['trial_type'] = trials"
   ]
  },
  {
   "cell_type": "code",
   "execution_count": 22,
   "metadata": {
    "ExecuteTime": {
     "end_time": "2019-07-14T22:15:00.055290Z",
     "start_time": "2019-07-14T22:15:00.030432Z"
    },
    "collapsed": false
   },
   "outputs": [
    {
     "data": {
      "text/html": [
       "<div>\n",
       "<table border=\"1\" class=\"dataframe\">\n",
       "  <thead>\n",
       "    <tr style=\"text-align: right;\">\n",
       "      <th></th>\n",
       "      <th>trial_type</th>\n",
       "    </tr>\n",
       "  </thead>\n",
       "  <tbody>\n",
       "    <tr>\n",
       "      <th>0</th>\n",
       "      <td>con</td>\n",
       "    </tr>\n",
       "    <tr>\n",
       "      <th>1</th>\n",
       "      <td>con</td>\n",
       "    </tr>\n",
       "    <tr>\n",
       "      <th>2</th>\n",
       "      <td>con</td>\n",
       "    </tr>\n",
       "    <tr>\n",
       "      <th>3</th>\n",
       "      <td>con</td>\n",
       "    </tr>\n",
       "    <tr>\n",
       "      <th>4</th>\n",
       "      <td>neu</td>\n",
       "    </tr>\n",
       "    <tr>\n",
       "      <th>5</th>\n",
       "      <td>con</td>\n",
       "    </tr>\n",
       "    <tr>\n",
       "      <th>6</th>\n",
       "      <td>con</td>\n",
       "    </tr>\n",
       "    <tr>\n",
       "      <th>7</th>\n",
       "      <td>con</td>\n",
       "    </tr>\n",
       "    <tr>\n",
       "      <th>8</th>\n",
       "      <td>con</td>\n",
       "    </tr>\n",
       "    <tr>\n",
       "      <th>9</th>\n",
       "      <td>neu</td>\n",
       "    </tr>\n",
       "    <tr>\n",
       "      <th>10</th>\n",
       "      <td>incon</td>\n",
       "    </tr>\n",
       "    <tr>\n",
       "      <th>11</th>\n",
       "      <td>con</td>\n",
       "    </tr>\n",
       "    <tr>\n",
       "      <th>12</th>\n",
       "      <td>neu</td>\n",
       "    </tr>\n",
       "    <tr>\n",
       "      <th>13</th>\n",
       "      <td>con</td>\n",
       "    </tr>\n",
       "    <tr>\n",
       "      <th>14</th>\n",
       "      <td>con</td>\n",
       "    </tr>\n",
       "    <tr>\n",
       "      <th>15</th>\n",
       "      <td>con</td>\n",
       "    </tr>\n",
       "    <tr>\n",
       "      <th>16</th>\n",
       "      <td>con</td>\n",
       "    </tr>\n",
       "    <tr>\n",
       "      <th>17</th>\n",
       "      <td>neu</td>\n",
       "    </tr>\n",
       "    <tr>\n",
       "      <th>18</th>\n",
       "      <td>con</td>\n",
       "    </tr>\n",
       "    <tr>\n",
       "      <th>19</th>\n",
       "      <td>neu</td>\n",
       "    </tr>\n",
       "    <tr>\n",
       "      <th>20</th>\n",
       "      <td>incon</td>\n",
       "    </tr>\n",
       "    <tr>\n",
       "      <th>21</th>\n",
       "      <td>neu</td>\n",
       "    </tr>\n",
       "    <tr>\n",
       "      <th>22</th>\n",
       "      <td>con</td>\n",
       "    </tr>\n",
       "    <tr>\n",
       "      <th>23</th>\n",
       "      <td>incon</td>\n",
       "    </tr>\n",
       "    <tr>\n",
       "      <th>24</th>\n",
       "      <td>neu</td>\n",
       "    </tr>\n",
       "    <tr>\n",
       "      <th>25</th>\n",
       "      <td>con</td>\n",
       "    </tr>\n",
       "    <tr>\n",
       "      <th>26</th>\n",
       "      <td>neu</td>\n",
       "    </tr>\n",
       "    <tr>\n",
       "      <th>27</th>\n",
       "      <td>neu</td>\n",
       "    </tr>\n",
       "    <tr>\n",
       "      <th>28</th>\n",
       "      <td>neu</td>\n",
       "    </tr>\n",
       "    <tr>\n",
       "      <th>29</th>\n",
       "      <td>incon</td>\n",
       "    </tr>\n",
       "  </tbody>\n",
       "</table>\n",
       "</div>"
      ],
      "text/plain": [
       "   trial_type\n",
       "0         con\n",
       "1         con\n",
       "2         con\n",
       "3         con\n",
       "4         neu\n",
       "5         con\n",
       "6         con\n",
       "7         con\n",
       "8         con\n",
       "9         neu\n",
       "10      incon\n",
       "11        con\n",
       "12        neu\n",
       "13        con\n",
       "14        con\n",
       "15        con\n",
       "16        con\n",
       "17        neu\n",
       "18        con\n",
       "19        neu\n",
       "20      incon\n",
       "21        neu\n",
       "22        con\n",
       "23      incon\n",
       "24        neu\n",
       "25        con\n",
       "26        neu\n",
       "27        neu\n",
       "28        neu\n",
       "29      incon"
      ]
     },
     "execution_count": 22,
     "metadata": {},
     "output_type": "execute_result"
    }
   ],
   "source": [
    "df"
   ]
  },
  {
   "cell_type": "markdown",
   "metadata": {},
   "source": [
    "# create EV files"
   ]
  },
  {
   "cell_type": "code",
   "execution_count": 28,
   "metadata": {
    "ExecuteTime": {
     "end_time": "2019-07-14T22:17:28.847568Z",
     "start_time": "2019-07-14T22:17:28.729409Z"
    },
    "collapsed": false
   },
   "outputs": [],
   "source": [
    "cue_onset_neu = pd.DataFrame()\n",
    "cue_onset_con = pd.DataFrame()\n",
    "cue_onset_incon = pd.DataFrame()\n",
    "target_onset_neu = pd.DataFrame()\n",
    "target_onset_con = pd.DataFrame()\n",
    "target_onset_incon = pd.DataFrame()\n",
    "# for index in range(1,11):\n",
    "index = 1   \n",
    "sheetname = 'c' + str(index)\n",
    "# load xlsx\n",
    "df = pd.read_excel('/Users/h/Dropbox/Projects/SI.01/coding/design/onset_time_25.xlsx', sheet_name = sheetname)\n",
    "\n",
    "# create separate pandas\n",
    "# d = {index: label for index, label in df.groupby('trial_type')}\n",
    "d = {k: df[df['trial_type'] == k] for k in df['trial_type'].unique()}\n",
    "# create EV files based on sheet\n",
    "\n",
    "# 6 files\n",
    "# CUE ____________________\n",
    "# cue_onset neu\n",
    "cue_onset_neu['onset'] = d['neu']['cue_onset'].copy().reset_index(drop=True)\n",
    "cue_onset_neu['duration'] = 2\n",
    "cue_onset_neu['magnitude'] = 1\n",
    "# cue_onset con\n",
    "cue_onset_con['onset'] = d['con']['cue_onset'].copy().reset_index(drop=True)\n",
    "cue_onset_con['duration'] = 2\n",
    "cue_onset_con['magnitude'] = 1\n",
    "# cue_onset incon\n",
    "cue_onset_incon['onset'] = d['incon']['cue_onset'].copy().reset_index(drop=True)\n",
    "cue_onset_incon['duration'] = 2\n",
    "cue_onset_incon['magnitude'] = 1\n",
    "\n",
    "# TARGET ____________________\n",
    "# target_onset neu\n",
    "target_onset_neu['onset'] = d['neu']['target_onset'].copy().reset_index(drop=True)\n",
    "target_onset_neu['duration'] = 1.5\n",
    "target_onset_neu['magnitude'] = 1\n",
    "# target_onset con\n",
    "target_onset_con['onset'] = d['con']['target_onset'].copy().reset_index(drop=True)\n",
    "target_onset_con['duration'] = 1.5\n",
    "target_onset_con['magnitude'] = 1\n",
    "# target_onset incon\n",
    "target_onset_incon['onset'] = d['incon']['target_onset'].copy().reset_index(drop=True)\n",
    "target_onset_incon['duration'] = 1.5\n",
    "target_onset_incon['magnitude'] = 1\n",
    "\n",
    "# SAVE _________________________\n",
    "sub_run_dir = '/Users/h/Dropbox/Projects/SI.01/coding/data/sub-01/run-01'\n",
    "cue_onset_neu_fname = os.sep.join([sub_run_dir, 'face_CUE_neu_25.txt'])\n",
    "cue_onset_neu.to_csv(cue_onset_neu_fname, index = False, header = False, sep = '\\t')\n",
    "\n",
    "cue_onset_con_fname = os.sep.join([sub_run_dir, 'face_CUE_con_25.txt'])\n",
    "cue_onset_con.to_csv(cue_onset_con_fname, index = False, header = False, sep = '\\t')\n",
    "\n",
    "cue_onset_incon_fname = os.sep.join([sub_run_dir, 'face_CUE_incon_25.txt'])\n",
    "cue_onset_incon.to_csv(cue_onset_incon_fname, index = False, header = False, sep = '\\t')\n",
    "\n",
    "target_onset_neu_fname = os.sep.join([sub_run_dir, 'face_TARGET_neu_25.txt'])\n",
    "target_onset_neu.to_csv(target_onset_neu_fname, index = False, header = False, sep = '\\t')\n",
    "\n",
    "target_onset_con_fname = os.sep.join([sub_run_dir, 'face_TARGET_con_25.txt'])\n",
    "target_onset_con.to_csv(target_onset_con_fname, index = False, header = False, sep = '\\t')\n",
    "\n",
    "target_onset_incon_fname = os.sep.join([sub_run_dir, 'face_TARGET_incon_25.txt'])\n",
    "target_onset_incon.to_csv(target_onset_incon_fname, index = False, header = False, sep = '\\t')"
   ]
  },
  {
   "cell_type": "code",
   "execution_count": 29,
   "metadata": {
    "ExecuteTime": {
     "end_time": "2019-07-14T22:17:30.986298Z",
     "start_time": "2019-07-14T22:17:30.953645Z"
    },
    "collapsed": false
   },
   "outputs": [
    {
     "data": {
      "text/html": [
       "<div>\n",
       "<table border=\"1\" class=\"dataframe\">\n",
       "  <thead>\n",
       "    <tr style=\"text-align: right;\">\n",
       "      <th></th>\n",
       "      <th>fixation</th>\n",
       "      <th>cue</th>\n",
       "      <th>target</th>\n",
       "      <th>cue_onset</th>\n",
       "      <th>target_onset</th>\n",
       "      <th>fixation_onset</th>\n",
       "      <th>trial_type</th>\n",
       "    </tr>\n",
       "  </thead>\n",
       "  <tbody>\n",
       "    <tr>\n",
       "      <th>4</th>\n",
       "      <td>0.319738</td>\n",
       "      <td>2</td>\n",
       "      <td>1.5</td>\n",
       "      <td>18.574315</td>\n",
       "      <td>20.574315</td>\n",
       "      <td>22.074315</td>\n",
       "      <td>neu</td>\n",
       "    </tr>\n",
       "    <tr>\n",
       "      <th>9</th>\n",
       "      <td>3.644614</td>\n",
       "      <td>2</td>\n",
       "      <td>1.5</td>\n",
       "      <td>47.738190</td>\n",
       "      <td>49.738190</td>\n",
       "      <td>51.238190</td>\n",
       "      <td>neu</td>\n",
       "    </tr>\n",
       "    <tr>\n",
       "      <th>12</th>\n",
       "      <td>7.210826</td>\n",
       "      <td>2</td>\n",
       "      <td>1.5</td>\n",
       "      <td>70.971956</td>\n",
       "      <td>72.971956</td>\n",
       "      <td>74.471956</td>\n",
       "      <td>neu</td>\n",
       "    </tr>\n",
       "    <tr>\n",
       "      <th>17</th>\n",
       "      <td>1.017892</td>\n",
       "      <td>2</td>\n",
       "      <td>1.5</td>\n",
       "      <td>114.757717</td>\n",
       "      <td>116.757717</td>\n",
       "      <td>118.257717</td>\n",
       "      <td>neu</td>\n",
       "    </tr>\n",
       "    <tr>\n",
       "      <th>19</th>\n",
       "      <td>0.892112</td>\n",
       "      <td>2</td>\n",
       "      <td>1.5</td>\n",
       "      <td>125.436287</td>\n",
       "      <td>127.436287</td>\n",
       "      <td>128.936287</td>\n",
       "      <td>neu</td>\n",
       "    </tr>\n",
       "    <tr>\n",
       "      <th>21</th>\n",
       "      <td>1.614000</td>\n",
       "      <td>2</td>\n",
       "      <td>1.5</td>\n",
       "      <td>140.650962</td>\n",
       "      <td>142.650962</td>\n",
       "      <td>144.150962</td>\n",
       "      <td>neu</td>\n",
       "    </tr>\n",
       "    <tr>\n",
       "      <th>24</th>\n",
       "      <td>3.122972</td>\n",
       "      <td>2</td>\n",
       "      <td>1.5</td>\n",
       "      <td>166.590067</td>\n",
       "      <td>168.590067</td>\n",
       "      <td>170.090067</td>\n",
       "      <td>neu</td>\n",
       "    </tr>\n",
       "    <tr>\n",
       "      <th>26</th>\n",
       "      <td>1.317920</td>\n",
       "      <td>2</td>\n",
       "      <td>1.5</td>\n",
       "      <td>175.253753</td>\n",
       "      <td>177.253753</td>\n",
       "      <td>178.753753</td>\n",
       "      <td>neu</td>\n",
       "    </tr>\n",
       "    <tr>\n",
       "      <th>27</th>\n",
       "      <td>6.189522</td>\n",
       "      <td>2</td>\n",
       "      <td>1.5</td>\n",
       "      <td>184.943275</td>\n",
       "      <td>186.943275</td>\n",
       "      <td>188.443275</td>\n",
       "      <td>neu</td>\n",
       "    </tr>\n",
       "    <tr>\n",
       "      <th>28</th>\n",
       "      <td>3.434335</td>\n",
       "      <td>2</td>\n",
       "      <td>1.5</td>\n",
       "      <td>191.877610</td>\n",
       "      <td>193.877610</td>\n",
       "      <td>195.377610</td>\n",
       "      <td>neu</td>\n",
       "    </tr>\n",
       "  </tbody>\n",
       "</table>\n",
       "</div>"
      ],
      "text/plain": [
       "    fixation  cue  target   cue_onset  target_onset  fixation_onset trial_type\n",
       "4   0.319738    2     1.5   18.574315     20.574315       22.074315        neu\n",
       "9   3.644614    2     1.5   47.738190     49.738190       51.238190        neu\n",
       "12  7.210826    2     1.5   70.971956     72.971956       74.471956        neu\n",
       "17  1.017892    2     1.5  114.757717    116.757717      118.257717        neu\n",
       "19  0.892112    2     1.5  125.436287    127.436287      128.936287        neu\n",
       "21  1.614000    2     1.5  140.650962    142.650962      144.150962        neu\n",
       "24  3.122972    2     1.5  166.590067    168.590067      170.090067        neu\n",
       "26  1.317920    2     1.5  175.253753    177.253753      178.753753        neu\n",
       "27  6.189522    2     1.5  184.943275    186.943275      188.443275        neu\n",
       "28  3.434335    2     1.5  191.877610    193.877610      195.377610        neu"
      ]
     },
     "execution_count": 29,
     "metadata": {},
     "output_type": "execute_result"
    }
   ],
   "source": [
    "d['neu']"
   ]
  },
  {
   "cell_type": "code",
   "execution_count": 30,
   "metadata": {
    "ExecuteTime": {
     "end_time": "2019-07-14T22:17:33.414312Z",
     "start_time": "2019-07-14T22:17:33.400398Z"
    },
    "collapsed": false
   },
   "outputs": [
    {
     "data": {
      "text/plain": [
       "0     54.346043\n",
       "1    137.536962\n",
       "2    161.967095\n",
       "3    201.092146\n",
       "Name: onset, dtype: float64"
      ]
     },
     "execution_count": 30,
     "metadata": {},
     "output_type": "execute_result"
    }
   ],
   "source": [
    "cue_onset_neu['onset']\n",
    "cue_onset_con['onset']\n",
    "cue_onset_incon['onset']\n",
    "target_onset_neu['onset']\n",
    "target_onset_con['onset']\n",
    "target_onset_incon['onset']"
   ]
  }
 ],
 "metadata": {
  "anaconda-cloud": {},
  "kernelspec": {
   "display_name": "Python [conda env:anaconda2]",
   "language": "python",
   "name": "conda-env-anaconda2-py"
  },
  "language_info": {
   "codemirror_mode": {
    "name": "ipython",
    "version": 2
   },
   "file_extension": ".py",
   "mimetype": "text/x-python",
   "name": "python",
   "nbconvert_exporter": "python",
   "pygments_lexer": "ipython2",
   "version": "2.7.6"
  },
  "toc": {
   "colors": {
    "hover_highlight": "#DAA520",
    "running_highlight": "#FF0000",
    "selected_highlight": "#FFD700"
   },
   "moveMenuLeft": true,
   "nav_menu": {
    "height": "86px",
    "width": "252px"
   },
   "navigate_menu": true,
   "number_sections": true,
   "sideBar": true,
   "threshold": 4,
   "toc_cell": false,
   "toc_section_display": "block",
   "toc_window_display": true,
   "widenNotebook": false
  }
 },
 "nbformat": 4,
 "nbformat_minor": 2
}
