{
 "cells": [
  {
   "cell_type": "code",
   "execution_count": 1,
   "metadata": {
    "ExecuteTime": {
     "end_time": "2019-07-16T12:23:14.869617Z",
     "start_time": "2019-07-16T12:23:13.235378Z"
    },
    "collapsed": true
   },
   "outputs": [],
   "source": [
    "import numpy as np\n",
    "import random \n",
    "import matplotlib.pyplot as plt\n",
    "import scipy.special as sps\n",
    "import pandas as pd\n",
    "import itertools\n",
    "import os"
   ]
  },
  {
   "cell_type": "markdown",
   "metadata": {},
   "source": [
    "# gamma distribution"
   ]
  },
  {
   "cell_type": "code",
   "execution_count": 2,
   "metadata": {
    "ExecuteTime": {
     "end_time": "2019-07-16T12:23:15.977375Z",
     "start_time": "2019-07-16T12:23:15.967914Z"
    },
    "collapsed": false
   },
   "outputs": [],
   "source": [
    "shape, scale = 2., 1.5  # mean=4, std=2*sqrt(2)\n",
    "s = np.random.gamma(shape, scale, 1000)"
   ]
  },
  {
   "cell_type": "code",
   "execution_count": 3,
   "metadata": {
    "ExecuteTime": {
     "end_time": "2019-07-16T12:23:17.146098Z",
     "start_time": "2019-07-16T12:23:16.833291Z"
    },
    "collapsed": false
   },
   "outputs": [
    {
     "data": {
      "image/png": "[encoded data removed]",
      "text/plain": [
       "<matplotlib.figure.Figure at 0x10fd068d0>"
      ]
     },
     "metadata": {},
     "output_type": "display_data"
    }
   ],
   "source": [
    "count, bins, ignored = plt.hist(s, 50, normed=True) #density=True\n",
    "y = bins**(shape-1)*(np.exp(-bins/scale) /\n",
    "                     (sps.gamma(shape)*scale**shape))\n",
    "plt.plot(bins, y, linewidth=2, color='r')\n",
    "plt.show()"
   ]
  },
  {
   "cell_type": "code",
   "execution_count": 46,
   "metadata": {
    "ExecuteTime": {
     "end_time": "2019-07-16T12:44:40.157484Z",
     "start_time": "2019-07-16T12:44:40.147017Z"
    },
    "collapsed": false
   },
   "outputs": [],
   "source": [
    "fixation = random.sample(s, 40)\n",
    "fixation = np.random.choice(s, size=[5,2,40], replace=True)"
   ]
  },
  {
   "cell_type": "code",
   "execution_count": 47,
   "metadata": {
    "ExecuteTime": {
     "end_time": "2019-07-16T12:44:42.912320Z",
     "start_time": "2019-07-16T12:44:42.901053Z"
    },
    "collapsed": false
   },
   "outputs": [
    {
     "data": {
      "text/plain": [
       "array([  2.09887096,   2.46248702,   1.29990597,   1.84283019,\n",
       "         3.96664182,   2.92561149,   5.4390683 ,   2.53030177,\n",
       "         4.05588612,   1.83291998,   2.92561149,   6.86278427,\n",
       "         1.39550387,   5.45555544,   1.99061266,   0.79450203,\n",
       "         3.88778038,   4.03753081,   2.97549309,   1.5737869 ,\n",
       "         4.75753251,   2.18704481,   4.53405991,   2.75077931,\n",
       "         4.32461812,   3.1736101 ,   2.17410267,   7.49258496,\n",
       "         2.71104135,   2.62232838,   0.68484593,   2.91873003,\n",
       "         7.75285467,   7.02808234,   3.77970447,  14.60960164,\n",
       "         3.58155423,   2.20941481,   2.61884833,   3.14283882])"
      ]
     },
     "execution_count": 47,
     "metadata": {},
     "output_type": "execute_result"
    }
   ],
   "source": [
    "fixation[0][0] + 0.5\n"
   ]
  },
  {
   "cell_type": "code",
   "execution_count": 50,
   "metadata": {
    "ExecuteTime": {
     "end_time": "2019-07-16T12:45:00.752263Z",
     "start_time": "2019-07-16T12:45:00.743388Z"
    },
    "collapsed": false
   },
   "outputs": [],
   "source": [
    "# grab fixation[0][0]\n",
    "new_fixation = np.zeros((5,2,40))\n",
    "for cond in range(5):\n",
    "    for rep in range(2):\n",
    "        if sum(fixation[cond][rep]) < 110:\n",
    "            diff = 110 - sum(fixation[cond][rep])\n",
    "            new_fixation[cond][rep] =  fixation[cond][rep] + diff/40\n",
    "        elif sum(fixation[cond][rep]) > 110:\n",
    "            diff = sum(fixation[cond][rep]) - 110\n",
    "            new_fixation[cond][rep] = fixation[cond][rep] - diff/40"
   ]
  },
  {
   "cell_type": "code",
   "execution_count": 52,
   "metadata": {
    "ExecuteTime": {
     "end_time": "2019-07-16T12:45:09.511370Z",
     "start_time": "2019-07-16T12:45:09.486543Z"
    },
    "collapsed": false
   },
   "outputs": [
    {
     "data": {
      "text/plain": [
       "array([[[  1.21367441,   1.57729047,   0.41470942,   0.95763364,\n",
       "           3.08144527,   2.04041494,   4.55387175,   1.64510522,\n",
       "           3.17068957,   0.94772343,   2.04041494,   5.97758773,\n",
       "           0.51030732,   4.57035889,   1.10541611,  -0.09069452,\n",
       "           3.00258384,   3.15233426,   2.09029655,   0.68859035,\n",
       "           3.87233596,   1.30184826,   3.64886336,   1.86558276,\n",
       "           3.43942158,   2.28841355,   1.28890612,   6.60738841,\n",
       "           1.8258448 ,   1.73713183,  -0.20035062,   2.03353348,\n",
       "           6.86765812,   6.1428858 ,   2.89450792,  13.72440509,\n",
       "           2.69635768,   1.32421826,   1.73365178,   2.25764227],\n",
       "        [  4.37087642,   3.83609432,   3.26648018,   0.60117415,\n",
       "           3.59881587,  -0.27451533,   5.08554497,   1.79803691,\n",
       "          -0.1686984 ,   2.09627134,   2.54073905,   0.86174008,\n",
       "           8.653806  ,   3.48088409,   4.4960391 ,   5.68731514,\n",
       "           2.4265595 ,   4.84121297,   0.71414661,   1.0367644 ,\n",
       "           4.82050397,   0.92053008,   3.59325217,   0.60117415,\n",
       "           0.75190815,  -0.18775183,   4.17305457,   0.68420705,\n",
       "           2.60404962,   1.09642575,  11.0127144 ,   5.95292337,\n",
       "           3.84939389,   1.79175914,   0.30542832,   0.90980346,\n",
       "           1.52659325,   0.47853844,   1.88017525,   4.28602941]],\n",
       "\n",
       "       [[  0.90834869,   4.69387758,   1.21985272,   2.61926594,\n",
       "           6.85011276,   3.23697868,   4.60853421,  -0.12478204,\n",
       "           4.60713918,   3.83860934,   0.589425  ,   4.0972022 ,\n",
       "          -0.06046373,   1.41669138,   2.78256763,   5.40253073,\n",
       "           1.96174023,   4.02746445,  -0.22900063,   2.14208632,\n",
       "           4.21109612,   3.77703041,   1.68170039,   3.33939089,\n",
       "           1.20425115,   0.33239048,   0.9978516 ,   3.18152938,\n",
       "           5.90745603,   2.01208851,   5.05526457,   6.85011276,\n",
       "           4.05014592,   2.44478382,   0.93049866,   0.13427295,\n",
       "           0.97997858,   2.19316027,   1.83309578,   4.29572107],\n",
       "        [  9.06386069,   0.94360285,   2.82030055,   1.69564314,\n",
       "           3.12096688,   1.45802236,   2.83858873,   2.39509929,\n",
       "           3.87612489,   2.01548686,   2.02048412,   6.30176935,\n",
       "           2.35591528,   0.47719587,   3.16359776,   0.47719587,\n",
       "           4.25345259,   4.90368727,   2.82602749,   5.69905507,\n",
       "           1.56794075,   2.13058171,   1.81158716,   1.09834405,\n",
       "           2.31605576,   0.68916058,   2.73362841,   3.18885339,\n",
       "           2.21622797,   2.17400392,   0.25600595,   5.06773273,\n",
       "           1.7912161 ,   0.71026391,   3.02968607,   6.20312228,\n",
       "           2.28026199,   3.07397017,   0.30005157,   4.65522865]],\n",
       "\n",
       "       [[  1.05412703,   4.08136788,   1.95401154,   1.83146388,\n",
       "           2.10942112,   2.55405698,   2.02037666,   2.66643241,\n",
       "           4.33207582,   2.37575856,   1.5196979 ,   1.08109729,\n",
       "           1.83742348,   3.82069975,   5.53505689,   4.38017113,\n",
       "           3.27421776,   3.71977639,   2.54252005,   0.70111151,\n",
       "           1.79248341,   2.0982624 ,   1.04392136,   3.119768  ,\n",
       "           1.9137039 ,   1.97879984,   3.24344591,   2.60958981,\n",
       "           2.48250883,   8.25689152,   1.33279625,   1.53465653,\n",
       "           3.91086953,   4.93132698,   1.68494836,   2.6667603 ,\n",
       "           1.65538173,   2.08633382,   5.24414012,   3.02254739],\n",
       "        [  3.35674657,   1.6763749 ,   2.69591856,   4.68053617,\n",
       "           0.97142976,   0.45346012,   1.39550828,   1.99916196,\n",
       "           3.29359449,   7.78373546,   9.44872465,   4.96776593,\n",
       "           1.15167397,   1.53755468,   4.94140157,   2.70604048,\n",
       "           1.07335808,   4.2572342 ,   0.48967868,   3.44434531,\n",
       "           0.5909728 ,   1.69386601,   3.98908697,   2.70520062,\n",
       "           2.12900248,   1.88151993,   1.42814733,   1.48184441,\n",
       "           4.33541958,   0.89550478,   6.93168514,   2.80004676,\n",
       "           2.97675393,   0.88323353,   0.89550478,   1.19209852,\n",
       "           2.65734114,   5.96564503,   1.10041381,   1.14246864]],\n",
       "\n",
       "       [[  1.31276414,  -0.09431218,   1.83734454,   5.04969447,\n",
       "           4.38427146,   3.58228967,  -0.12222116,   4.51535841,\n",
       "          -0.12222116,   0.5668262 ,   1.30865849,   5.40671197,\n",
       "           8.49497452,   1.39308688,   2.30830313,   2.19606929,\n",
       "           1.00622206,  -0.37782807,   5.8673995 ,   8.56093201,\n",
       "           1.4257495 ,   2.47970218,   2.51872795,   3.31045105,\n",
       "           1.04407412,   2.83774377,   0.57341005,   0.16424888,\n",
       "           1.76217213,   8.01289967,   3.13999284,   4.77043144,\n",
       "           2.72490762,   1.27362432,   3.22268938,   1.26860353,\n",
       "           2.28745442,   5.33296112,   2.58881265,   2.18701919],\n",
       "        [  2.23769564,   2.25265178,   3.35103454,   2.75446505,\n",
       "           1.85516591,   1.64142716,   1.60740956,   6.64374328,\n",
       "           4.31080595,   1.64063519,   2.979309  ,   2.04896159,\n",
       "           0.44199523,   3.62977302,   4.31676974,   2.25265178,\n",
       "           2.79076106,   0.80474816,   3.03329267,   3.53376652,\n",
       "           2.67321012,   0.43411808,   2.94037982,   2.42478269,\n",
       "           6.07294116,   0.3213119 ,   1.69866831,   5.96790022,\n",
       "           2.37518897,   5.29672285,   0.95691927,   5.93077659,\n",
       "           3.67440757,   2.83660338,   2.42294779,   1.21453674,\n",
       "           1.32173088,   0.79225629,   3.3901414 ,   3.12739313]],\n",
       "\n",
       "       [[  2.07617627,   2.42567003,   4.37376144,   1.17844956,\n",
       "           0.28857809,   1.45759634,   2.55541221,   8.98846908,\n",
       "           2.86417958,   2.24914184,   0.31430762,   3.23271603,\n",
       "           1.04162922,   2.54857992,   0.85329249,   6.02610279,\n",
       "           1.30148705,   2.9268201 ,   0.66661621,   2.63633239,\n",
       "           0.25330041,   2.28716607,   8.4672619 ,   0.13155753,\n",
       "           3.01113022,   1.84894198,   1.23631815,   0.30017637,\n",
       "           3.18807132,   1.5995335 ,   1.36960018,   3.76664554,\n",
       "           0.97101618,   5.56789477,   1.30568203,   1.3699833 ,\n",
       "          15.15880095,   3.44486829,   2.98657826,   1.73015478],\n",
       "        [  5.85361498,   1.10830126,   2.16937131,   1.60155612,\n",
       "           2.28884261,   3.50202375,   2.30143683,   3.00594017,\n",
       "           1.12523594,   0.39090109,   2.95576565,   1.59966337,\n",
       "           1.64172897,   3.34562451,   2.27595249,   2.18053003,\n",
       "           2.56918888,   2.5950077 ,   2.36557455,   4.40083472,\n",
       "           3.50034709,   1.56431777,   0.77708997,   1.42404687,\n",
       "           1.11503028,   3.63874585,   3.77737371,   4.91781094,\n",
       "           3.30304182,   7.70785548,   4.82763729,   1.58053458,\n",
       "           1.17685044,   0.76468286,   6.32288618,   2.7005883 ,\n",
       "           1.90905309,   2.71880333,   5.29164284,   1.70456642]]])"
      ]
     },
     "execution_count": 52,
     "metadata": {},
     "output_type": "execute_result"
    }
   ],
   "source": [
    "new_fixation"
   ]
  },
  {
   "cell_type": "code",
   "execution_count": 53,
   "metadata": {
    "ExecuteTime": {
     "end_time": "2019-07-16T12:45:17.997554Z",
     "start_time": "2019-07-16T12:45:17.990418Z"
    },
    "collapsed": true
   },
   "outputs": [],
   "source": [
    "# save fixation\n",
    "# '/Users/h/Dropbox/Projects/SI.01/coding/'\n",
    "np.save('/Users/h/Dropbox/Projects/SI.01/coding/fixation_gamma_40t_5cond_2rep', new_fixation)"
   ]
  },
  {
   "cell_type": "code",
   "execution_count": 54,
   "metadata": {
    "ExecuteTime": {
     "end_time": "2019-07-16T12:45:19.546934Z",
     "start_time": "2019-07-16T12:45:19.533519Z"
    },
    "collapsed": false
   },
   "outputs": [
    {
     "data": {
      "text/plain": [
       "array([  4.37087642,   3.83609432,   3.26648018,   0.60117415,\n",
       "         3.59881587,  -0.27451533,   5.08554497,   1.79803691,\n",
       "        -0.1686984 ,   2.09627134,   2.54073905,   0.86174008,\n",
       "         8.653806  ,   3.48088409,   4.4960391 ,   5.68731514,\n",
       "         2.4265595 ,   4.84121297,   0.71414661,   1.0367644 ,\n",
       "         4.82050397,   0.92053008,   3.59325217,   0.60117415,\n",
       "         0.75190815,  -0.18775183,   4.17305457,   0.68420705,\n",
       "         2.60404962,   1.09642575,  11.0127144 ,   5.95292337,\n",
       "         3.84939389,   1.79175914,   0.30542832,   0.90980346,\n",
       "         1.52659325,   0.47853844,   1.88017525,   4.28602941])"
      ]
     },
     "execution_count": 54,
     "metadata": {},
     "output_type": "execute_result"
    }
   ],
   "source": [
    "new_fixation[0][1]"
   ]
  },
  {
   "cell_type": "code",
   "execution_count": 55,
   "metadata": {
    "ExecuteTime": {
     "end_time": "2019-07-16T12:45:23.713151Z",
     "start_time": "2019-07-16T12:45:23.695982Z"
    },
    "collapsed": false
   },
   "outputs": [
    {
     "name": "stdout",
     "output_type": "stream",
     "text": [
      "110.0\n",
      "110.0\n",
      "110.0\n",
      "110.0\n",
      "110.0\n",
      "110.0\n",
      "110.0\n",
      "110.0\n",
      "110.0\n",
      "110.0\n"
     ]
    }
   ],
   "source": [
    "print sum(new_fixation[0][0])\n",
    "print sum(new_fixation[0][1])\n",
    "print sum(new_fixation[1][0])\n",
    "print sum(new_fixation[1][1])\n",
    "print sum(new_fixation[2][0])\n",
    "print sum(new_fixation[2][1])\n",
    "print sum(new_fixation[3][0])\n",
    "print sum(new_fixation[3][1])\n",
    "print sum(new_fixation[4][0])\n",
    "print sum(new_fixation[4][1])"
   ]
  },
  {
   "cell_type": "code",
   "execution_count": 9,
   "metadata": {
    "ExecuteTime": {
     "end_time": "2019-07-16T12:25:06.230711Z",
     "start_time": "2019-07-16T12:25:06.222241Z"
    },
    "collapsed": false
   },
   "outputs": [
    {
     "data": {
      "text/plain": [
       "1096.4414349781709"
      ]
     },
     "execution_count": 9,
     "metadata": {},
     "output_type": "execute_result"
    }
   ],
   "source": [
    "sum(sum(sum(fixation)))"
   ]
  },
  {
   "cell_type": "code",
   "execution_count": 6,
   "metadata": {
    "ExecuteTime": {
     "end_time": "2019-07-14T22:28:13.779341Z",
     "start_time": "2019-07-14T22:28:13.770994Z"
    },
    "collapsed": false
   },
   "outputs": [
    {
     "data": {
      "text/plain": [
       "array([ 3.86437196,  3.55938032,  4.58377201,  7.50301518,  1.21527746,\n",
       "        3.49714784,  1.34939569,  0.36790182,  4.61083597,  1.58568212,\n",
       "        1.86646658,  1.85132034,  0.81960609,  0.93815977,  4.09900645,\n",
       "        0.93977922,  0.94771196,  3.61900354,  4.96821731,  4.03647391,\n",
       "        6.87383819,  3.09720819,  4.2074603 ,  1.65815653,  4.28483404,\n",
       "        4.70243549,  0.28276657,  5.8676033 ,  3.90322238,  0.54406434])"
      ]
     },
     "execution_count": 6,
     "metadata": {},
     "output_type": "execute_result"
    }
   ],
   "source": [
    "fixation[4][1]"
   ]
  },
  {
   "cell_type": "code",
   "execution_count": 56,
   "metadata": {
    "ExecuteTime": {
     "end_time": "2019-07-16T12:45:40.316992Z",
     "start_time": "2019-07-16T12:45:40.102105Z"
    },
    "collapsed": false
   },
   "outputs": [
    {
     "data": {
      "image/png": "[encoded data removed]",
      "text/plain": [
       "<matplotlib.figure.Figure at 0x11249c050>"
      ]
     },
     "metadata": {},
     "output_type": "display_data"
    }
   ],
   "source": [
    "plt.hist(new_fixation[4][1], bins='auto')  \n",
    "plt.title(\"Histogram with 15 fixation durations randomly selected from gamma dist.\")\n",
    "plt.show()"
   ]
  },
  {
   "cell_type": "markdown",
   "metadata": {
    "ExecuteTime": {
     "end_time": "2019-07-14T18:58:27.521187Z",
     "start_time": "2019-07-14T18:58:27.517197Z"
    }
   },
   "source": [
    "# create pandas dataframe"
   ]
  },
  {
   "cell_type": "code",
   "execution_count": 57,
   "metadata": {
    "ExecuteTime": {
     "end_time": "2019-07-16T12:45:43.702711Z",
     "start_time": "2019-07-16T12:45:43.683602Z"
    },
    "collapsed": false
   },
   "outputs": [],
   "source": [
    "condition_1 = pd.DataFrame()\n",
    "condition_1['fixation'] = new_fixation[4][1]\n",
    "condition_1['cue'] = 0.2\n",
    "condition_1['target'] = 2.5\n",
    "condition_1['cue_onset'] = np.nan\n",
    "condition_1['target_onset'] =np.nan\n",
    "condition_1['fixation_onset'] =np.nan"
   ]
  },
  {
   "cell_type": "code",
   "execution_count": 58,
   "metadata": {
    "ExecuteTime": {
     "end_time": "2019-07-16T12:45:44.479680Z",
     "start_time": "2019-07-16T12:45:44.423734Z"
    },
    "collapsed": false
   },
   "outputs": [
    {
     "data": {
      "text/html": [
       "<div>\n",
       "<table border=\"1\" class=\"dataframe\">\n",
       "  <thead>\n",
       "    <tr style=\"text-align: right;\">\n",
       "      <th></th>\n",
       "      <th>fixation</th>\n",
       "      <th>cue</th>\n",
       "      <th>target</th>\n",
       "      <th>cue_onset</th>\n",
       "      <th>target_onset</th>\n",
       "      <th>fixation_onset</th>\n",
       "    </tr>\n",
       "  </thead>\n",
       "  <tbody>\n",
       "    <tr>\n",
       "      <th>0</th>\n",
       "      <td>5.853615</td>\n",
       "      <td>0.2</td>\n",
       "      <td>2.5</td>\n",
       "      <td>NaN</td>\n",
       "      <td>NaN</td>\n",
       "      <td>NaN</td>\n",
       "    </tr>\n",
       "    <tr>\n",
       "      <th>1</th>\n",
       "      <td>1.108301</td>\n",
       "      <td>0.2</td>\n",
       "      <td>2.5</td>\n",
       "      <td>NaN</td>\n",
       "      <td>NaN</td>\n",
       "      <td>NaN</td>\n",
       "    </tr>\n",
       "    <tr>\n",
       "      <th>2</th>\n",
       "      <td>2.169371</td>\n",
       "      <td>0.2</td>\n",
       "      <td>2.5</td>\n",
       "      <td>NaN</td>\n",
       "      <td>NaN</td>\n",
       "      <td>NaN</td>\n",
       "    </tr>\n",
       "    <tr>\n",
       "      <th>3</th>\n",
       "      <td>1.601556</td>\n",
       "      <td>0.2</td>\n",
       "      <td>2.5</td>\n",
       "      <td>NaN</td>\n",
       "      <td>NaN</td>\n",
       "      <td>NaN</td>\n",
       "    </tr>\n",
       "    <tr>\n",
       "      <th>4</th>\n",
       "      <td>2.288843</td>\n",
       "      <td>0.2</td>\n",
       "      <td>2.5</td>\n",
       "      <td>NaN</td>\n",
       "      <td>NaN</td>\n",
       "      <td>NaN</td>\n",
       "    </tr>\n",
       "    <tr>\n",
       "      <th>5</th>\n",
       "      <td>3.502024</td>\n",
       "      <td>0.2</td>\n",
       "      <td>2.5</td>\n",
       "      <td>NaN</td>\n",
       "      <td>NaN</td>\n",
       "      <td>NaN</td>\n",
       "    </tr>\n",
       "    <tr>\n",
       "      <th>6</th>\n",
       "      <td>2.301437</td>\n",
       "      <td>0.2</td>\n",
       "      <td>2.5</td>\n",
       "      <td>NaN</td>\n",
       "      <td>NaN</td>\n",
       "      <td>NaN</td>\n",
       "    </tr>\n",
       "    <tr>\n",
       "      <th>7</th>\n",
       "      <td>3.005940</td>\n",
       "      <td>0.2</td>\n",
       "      <td>2.5</td>\n",
       "      <td>NaN</td>\n",
       "      <td>NaN</td>\n",
       "      <td>NaN</td>\n",
       "    </tr>\n",
       "    <tr>\n",
       "      <th>8</th>\n",
       "      <td>1.125236</td>\n",
       "      <td>0.2</td>\n",
       "      <td>2.5</td>\n",
       "      <td>NaN</td>\n",
       "      <td>NaN</td>\n",
       "      <td>NaN</td>\n",
       "    </tr>\n",
       "    <tr>\n",
       "      <th>9</th>\n",
       "      <td>0.390901</td>\n",
       "      <td>0.2</td>\n",
       "      <td>2.5</td>\n",
       "      <td>NaN</td>\n",
       "      <td>NaN</td>\n",
       "      <td>NaN</td>\n",
       "    </tr>\n",
       "    <tr>\n",
       "      <th>10</th>\n",
       "      <td>2.955766</td>\n",
       "      <td>0.2</td>\n",
       "      <td>2.5</td>\n",
       "      <td>NaN</td>\n",
       "      <td>NaN</td>\n",
       "      <td>NaN</td>\n",
       "    </tr>\n",
       "    <tr>\n",
       "      <th>11</th>\n",
       "      <td>1.599663</td>\n",
       "      <td>0.2</td>\n",
       "      <td>2.5</td>\n",
       "      <td>NaN</td>\n",
       "      <td>NaN</td>\n",
       "      <td>NaN</td>\n",
       "    </tr>\n",
       "    <tr>\n",
       "      <th>12</th>\n",
       "      <td>1.641729</td>\n",
       "      <td>0.2</td>\n",
       "      <td>2.5</td>\n",
       "      <td>NaN</td>\n",
       "      <td>NaN</td>\n",
       "      <td>NaN</td>\n",
       "    </tr>\n",
       "    <tr>\n",
       "      <th>13</th>\n",
       "      <td>3.345625</td>\n",
       "      <td>0.2</td>\n",
       "      <td>2.5</td>\n",
       "      <td>NaN</td>\n",
       "      <td>NaN</td>\n",
       "      <td>NaN</td>\n",
       "    </tr>\n",
       "    <tr>\n",
       "      <th>14</th>\n",
       "      <td>2.275952</td>\n",
       "      <td>0.2</td>\n",
       "      <td>2.5</td>\n",
       "      <td>NaN</td>\n",
       "      <td>NaN</td>\n",
       "      <td>NaN</td>\n",
       "    </tr>\n",
       "    <tr>\n",
       "      <th>15</th>\n",
       "      <td>2.180530</td>\n",
       "      <td>0.2</td>\n",
       "      <td>2.5</td>\n",
       "      <td>NaN</td>\n",
       "      <td>NaN</td>\n",
       "      <td>NaN</td>\n",
       "    </tr>\n",
       "    <tr>\n",
       "      <th>16</th>\n",
       "      <td>2.569189</td>\n",
       "      <td>0.2</td>\n",
       "      <td>2.5</td>\n",
       "      <td>NaN</td>\n",
       "      <td>NaN</td>\n",
       "      <td>NaN</td>\n",
       "    </tr>\n",
       "    <tr>\n",
       "      <th>17</th>\n",
       "      <td>2.595008</td>\n",
       "      <td>0.2</td>\n",
       "      <td>2.5</td>\n",
       "      <td>NaN</td>\n",
       "      <td>NaN</td>\n",
       "      <td>NaN</td>\n",
       "    </tr>\n",
       "    <tr>\n",
       "      <th>18</th>\n",
       "      <td>2.365575</td>\n",
       "      <td>0.2</td>\n",
       "      <td>2.5</td>\n",
       "      <td>NaN</td>\n",
       "      <td>NaN</td>\n",
       "      <td>NaN</td>\n",
       "    </tr>\n",
       "    <tr>\n",
       "      <th>19</th>\n",
       "      <td>4.400835</td>\n",
       "      <td>0.2</td>\n",
       "      <td>2.5</td>\n",
       "      <td>NaN</td>\n",
       "      <td>NaN</td>\n",
       "      <td>NaN</td>\n",
       "    </tr>\n",
       "    <tr>\n",
       "      <th>20</th>\n",
       "      <td>3.500347</td>\n",
       "      <td>0.2</td>\n",
       "      <td>2.5</td>\n",
       "      <td>NaN</td>\n",
       "      <td>NaN</td>\n",
       "      <td>NaN</td>\n",
       "    </tr>\n",
       "    <tr>\n",
       "      <th>21</th>\n",
       "      <td>1.564318</td>\n",
       "      <td>0.2</td>\n",
       "      <td>2.5</td>\n",
       "      <td>NaN</td>\n",
       "      <td>NaN</td>\n",
       "      <td>NaN</td>\n",
       "    </tr>\n",
       "    <tr>\n",
       "      <th>22</th>\n",
       "      <td>0.777090</td>\n",
       "      <td>0.2</td>\n",
       "      <td>2.5</td>\n",
       "      <td>NaN</td>\n",
       "      <td>NaN</td>\n",
       "      <td>NaN</td>\n",
       "    </tr>\n",
       "    <tr>\n",
       "      <th>23</th>\n",
       "      <td>1.424047</td>\n",
       "      <td>0.2</td>\n",
       "      <td>2.5</td>\n",
       "      <td>NaN</td>\n",
       "      <td>NaN</td>\n",
       "      <td>NaN</td>\n",
       "    </tr>\n",
       "    <tr>\n",
       "      <th>24</th>\n",
       "      <td>1.115030</td>\n",
       "      <td>0.2</td>\n",
       "      <td>2.5</td>\n",
       "      <td>NaN</td>\n",
       "      <td>NaN</td>\n",
       "      <td>NaN</td>\n",
       "    </tr>\n",
       "    <tr>\n",
       "      <th>25</th>\n",
       "      <td>3.638746</td>\n",
       "      <td>0.2</td>\n",
       "      <td>2.5</td>\n",
       "      <td>NaN</td>\n",
       "      <td>NaN</td>\n",
       "      <td>NaN</td>\n",
       "    </tr>\n",
       "    <tr>\n",
       "      <th>26</th>\n",
       "      <td>3.777374</td>\n",
       "      <td>0.2</td>\n",
       "      <td>2.5</td>\n",
       "      <td>NaN</td>\n",
       "      <td>NaN</td>\n",
       "      <td>NaN</td>\n",
       "    </tr>\n",
       "    <tr>\n",
       "      <th>27</th>\n",
       "      <td>4.917811</td>\n",
       "      <td>0.2</td>\n",
       "      <td>2.5</td>\n",
       "      <td>NaN</td>\n",
       "      <td>NaN</td>\n",
       "      <td>NaN</td>\n",
       "    </tr>\n",
       "    <tr>\n",
       "      <th>28</th>\n",
       "      <td>3.303042</td>\n",
       "      <td>0.2</td>\n",
       "      <td>2.5</td>\n",
       "      <td>NaN</td>\n",
       "      <td>NaN</td>\n",
       "      <td>NaN</td>\n",
       "    </tr>\n",
       "    <tr>\n",
       "      <th>29</th>\n",
       "      <td>7.707855</td>\n",
       "      <td>0.2</td>\n",
       "      <td>2.5</td>\n",
       "      <td>NaN</td>\n",
       "      <td>NaN</td>\n",
       "      <td>NaN</td>\n",
       "    </tr>\n",
       "    <tr>\n",
       "      <th>30</th>\n",
       "      <td>4.827637</td>\n",
       "      <td>0.2</td>\n",
       "      <td>2.5</td>\n",
       "      <td>NaN</td>\n",
       "      <td>NaN</td>\n",
       "      <td>NaN</td>\n",
       "    </tr>\n",
       "    <tr>\n",
       "      <th>31</th>\n",
       "      <td>1.580535</td>\n",
       "      <td>0.2</td>\n",
       "      <td>2.5</td>\n",
       "      <td>NaN</td>\n",
       "      <td>NaN</td>\n",
       "      <td>NaN</td>\n",
       "    </tr>\n",
       "    <tr>\n",
       "      <th>32</th>\n",
       "      <td>1.176850</td>\n",
       "      <td>0.2</td>\n",
       "      <td>2.5</td>\n",
       "      <td>NaN</td>\n",
       "      <td>NaN</td>\n",
       "      <td>NaN</td>\n",
       "    </tr>\n",
       "    <tr>\n",
       "      <th>33</th>\n",
       "      <td>0.764683</td>\n",
       "      <td>0.2</td>\n",
       "      <td>2.5</td>\n",
       "      <td>NaN</td>\n",
       "      <td>NaN</td>\n",
       "      <td>NaN</td>\n",
       "    </tr>\n",
       "    <tr>\n",
       "      <th>34</th>\n",
       "      <td>6.322886</td>\n",
       "      <td>0.2</td>\n",
       "      <td>2.5</td>\n",
       "      <td>NaN</td>\n",
       "      <td>NaN</td>\n",
       "      <td>NaN</td>\n",
       "    </tr>\n",
       "    <tr>\n",
       "      <th>35</th>\n",
       "      <td>2.700588</td>\n",
       "      <td>0.2</td>\n",
       "      <td>2.5</td>\n",
       "      <td>NaN</td>\n",
       "      <td>NaN</td>\n",
       "      <td>NaN</td>\n",
       "    </tr>\n",
       "    <tr>\n",
       "      <th>36</th>\n",
       "      <td>1.909053</td>\n",
       "      <td>0.2</td>\n",
       "      <td>2.5</td>\n",
       "      <td>NaN</td>\n",
       "      <td>NaN</td>\n",
       "      <td>NaN</td>\n",
       "    </tr>\n",
       "    <tr>\n",
       "      <th>37</th>\n",
       "      <td>2.718803</td>\n",
       "      <td>0.2</td>\n",
       "      <td>2.5</td>\n",
       "      <td>NaN</td>\n",
       "      <td>NaN</td>\n",
       "      <td>NaN</td>\n",
       "    </tr>\n",
       "    <tr>\n",
       "      <th>38</th>\n",
       "      <td>5.291643</td>\n",
       "      <td>0.2</td>\n",
       "      <td>2.5</td>\n",
       "      <td>NaN</td>\n",
       "      <td>NaN</td>\n",
       "      <td>NaN</td>\n",
       "    </tr>\n",
       "    <tr>\n",
       "      <th>39</th>\n",
       "      <td>1.704566</td>\n",
       "      <td>0.2</td>\n",
       "      <td>2.5</td>\n",
       "      <td>NaN</td>\n",
       "      <td>NaN</td>\n",
       "      <td>NaN</td>\n",
       "    </tr>\n",
       "  </tbody>\n",
       "</table>\n",
       "</div>"
      ],
      "text/plain": [
       "    fixation  cue  target  cue_onset  target_onset  fixation_onset\n",
       "0   5.853615  0.2     2.5        NaN           NaN             NaN\n",
       "1   1.108301  0.2     2.5        NaN           NaN             NaN\n",
       "2   2.169371  0.2     2.5        NaN           NaN             NaN\n",
       "3   1.601556  0.2     2.5        NaN           NaN             NaN\n",
       "4   2.288843  0.2     2.5        NaN           NaN             NaN\n",
       "5   3.502024  0.2     2.5        NaN           NaN             NaN\n",
       "6   2.301437  0.2     2.5        NaN           NaN             NaN\n",
       "7   3.005940  0.2     2.5        NaN           NaN             NaN\n",
       "8   1.125236  0.2     2.5        NaN           NaN             NaN\n",
       "9   0.390901  0.2     2.5        NaN           NaN             NaN\n",
       "10  2.955766  0.2     2.5        NaN           NaN             NaN\n",
       "11  1.599663  0.2     2.5        NaN           NaN             NaN\n",
       "12  1.641729  0.2     2.5        NaN           NaN             NaN\n",
       "13  3.345625  0.2     2.5        NaN           NaN             NaN\n",
       "14  2.275952  0.2     2.5        NaN           NaN             NaN\n",
       "15  2.180530  0.2     2.5        NaN           NaN             NaN\n",
       "16  2.569189  0.2     2.5        NaN           NaN             NaN\n",
       "17  2.595008  0.2     2.5        NaN           NaN             NaN\n",
       "18  2.365575  0.2     2.5        NaN           NaN             NaN\n",
       "19  4.400835  0.2     2.5        NaN           NaN             NaN\n",
       "20  3.500347  0.2     2.5        NaN           NaN             NaN\n",
       "21  1.564318  0.2     2.5        NaN           NaN             NaN\n",
       "22  0.777090  0.2     2.5        NaN           NaN             NaN\n",
       "23  1.424047  0.2     2.5        NaN           NaN             NaN\n",
       "24  1.115030  0.2     2.5        NaN           NaN             NaN\n",
       "25  3.638746  0.2     2.5        NaN           NaN             NaN\n",
       "26  3.777374  0.2     2.5        NaN           NaN             NaN\n",
       "27  4.917811  0.2     2.5        NaN           NaN             NaN\n",
       "28  3.303042  0.2     2.5        NaN           NaN             NaN\n",
       "29  7.707855  0.2     2.5        NaN           NaN             NaN\n",
       "30  4.827637  0.2     2.5        NaN           NaN             NaN\n",
       "31  1.580535  0.2     2.5        NaN           NaN             NaN\n",
       "32  1.176850  0.2     2.5        NaN           NaN             NaN\n",
       "33  0.764683  0.2     2.5        NaN           NaN             NaN\n",
       "34  6.322886  0.2     2.5        NaN           NaN             NaN\n",
       "35  2.700588  0.2     2.5        NaN           NaN             NaN\n",
       "36  1.909053  0.2     2.5        NaN           NaN             NaN\n",
       "37  2.718803  0.2     2.5        NaN           NaN             NaN\n",
       "38  5.291643  0.2     2.5        NaN           NaN             NaN\n",
       "39  1.704566  0.2     2.5        NaN           NaN             NaN"
      ]
     },
     "execution_count": 58,
     "metadata": {},
     "output_type": "execute_result"
    }
   ],
   "source": [
    "condition_1"
   ]
  },
  {
   "cell_type": "markdown",
   "metadata": {},
   "source": [
    "---------- >8 --------------------------------------------------"
   ]
  },
  {
   "cell_type": "markdown",
   "metadata": {},
   "source": [
    "---------- >8 --------------------------------------------------"
   ]
  },
  {
   "cell_type": "markdown",
   "metadata": {},
   "source": [
    "# randomize conditions"
   ]
  },
  {
   "cell_type": "code",
   "execution_count": 59,
   "metadata": {
    "ExecuteTime": {
     "end_time": "2019-07-16T12:45:47.326343Z",
     "start_time": "2019-07-16T12:45:47.317774Z"
    },
    "collapsed": true
   },
   "outputs": [],
   "source": [
    "trials = [np.repeat('con',24) , np.repeat('incon',6) , np.repeat('neu',10)]"
   ]
  },
  {
   "cell_type": "code",
   "execution_count": 60,
   "metadata": {
    "ExecuteTime": {
     "end_time": "2019-07-16T12:45:47.866267Z",
     "start_time": "2019-07-16T12:45:47.858089Z"
    },
    "collapsed": false
   },
   "outputs": [],
   "source": [
    "C = list(itertools.repeat('con', 24))\n",
    "I = list(itertools.repeat('incon', 6))\n",
    "N = list(itertools.repeat('neu', 10))\n",
    "trials = C + I + N"
   ]
  },
  {
   "cell_type": "code",
   "execution_count": 61,
   "metadata": {
    "ExecuteTime": {
     "end_time": "2019-07-16T12:45:48.475170Z",
     "start_time": "2019-07-16T12:45:48.468960Z"
    },
    "collapsed": false
   },
   "outputs": [],
   "source": [
    "random.shuffle(trials)"
   ]
  },
  {
   "cell_type": "code",
   "execution_count": 62,
   "metadata": {
    "ExecuteTime": {
     "end_time": "2019-07-16T12:45:48.997497Z",
     "start_time": "2019-07-16T12:45:48.987564Z"
    },
    "collapsed": false
   },
   "outputs": [],
   "source": [
    "random.shuffle(trials)\n",
    "df = pd.DataFrame()\n",
    "df['trial_type'] = trials"
   ]
  },
  {
   "cell_type": "code",
   "execution_count": 63,
   "metadata": {
    "ExecuteTime": {
     "end_time": "2019-07-16T12:45:49.601138Z",
     "start_time": "2019-07-16T12:45:49.578338Z"
    },
    "collapsed": false
   },
   "outputs": [
    {
     "data": {
      "text/html": [
       "<div>\n",
       "<table border=\"1\" class=\"dataframe\">\n",
       "  <thead>\n",
       "    <tr style=\"text-align: right;\">\n",
       "      <th></th>\n",
       "      <th>trial_type</th>\n",
       "    </tr>\n",
       "  </thead>\n",
       "  <tbody>\n",
       "    <tr>\n",
       "      <th>0</th>\n",
       "      <td>con</td>\n",
       "    </tr>\n",
       "    <tr>\n",
       "      <th>1</th>\n",
       "      <td>con</td>\n",
       "    </tr>\n",
       "    <tr>\n",
       "      <th>2</th>\n",
       "      <td>neu</td>\n",
       "    </tr>\n",
       "    <tr>\n",
       "      <th>3</th>\n",
       "      <td>neu</td>\n",
       "    </tr>\n",
       "    <tr>\n",
       "      <th>4</th>\n",
       "      <td>con</td>\n",
       "    </tr>\n",
       "    <tr>\n",
       "      <th>5</th>\n",
       "      <td>con</td>\n",
       "    </tr>\n",
       "    <tr>\n",
       "      <th>6</th>\n",
       "      <td>con</td>\n",
       "    </tr>\n",
       "    <tr>\n",
       "      <th>7</th>\n",
       "      <td>con</td>\n",
       "    </tr>\n",
       "    <tr>\n",
       "      <th>8</th>\n",
       "      <td>incon</td>\n",
       "    </tr>\n",
       "    <tr>\n",
       "      <th>9</th>\n",
       "      <td>incon</td>\n",
       "    </tr>\n",
       "    <tr>\n",
       "      <th>10</th>\n",
       "      <td>incon</td>\n",
       "    </tr>\n",
       "    <tr>\n",
       "      <th>11</th>\n",
       "      <td>con</td>\n",
       "    </tr>\n",
       "    <tr>\n",
       "      <th>12</th>\n",
       "      <td>con</td>\n",
       "    </tr>\n",
       "    <tr>\n",
       "      <th>13</th>\n",
       "      <td>neu</td>\n",
       "    </tr>\n",
       "    <tr>\n",
       "      <th>14</th>\n",
       "      <td>neu</td>\n",
       "    </tr>\n",
       "    <tr>\n",
       "      <th>15</th>\n",
       "      <td>incon</td>\n",
       "    </tr>\n",
       "    <tr>\n",
       "      <th>16</th>\n",
       "      <td>con</td>\n",
       "    </tr>\n",
       "    <tr>\n",
       "      <th>17</th>\n",
       "      <td>con</td>\n",
       "    </tr>\n",
       "    <tr>\n",
       "      <th>18</th>\n",
       "      <td>neu</td>\n",
       "    </tr>\n",
       "    <tr>\n",
       "      <th>19</th>\n",
       "      <td>con</td>\n",
       "    </tr>\n",
       "    <tr>\n",
       "      <th>20</th>\n",
       "      <td>con</td>\n",
       "    </tr>\n",
       "    <tr>\n",
       "      <th>21</th>\n",
       "      <td>neu</td>\n",
       "    </tr>\n",
       "    <tr>\n",
       "      <th>22</th>\n",
       "      <td>con</td>\n",
       "    </tr>\n",
       "    <tr>\n",
       "      <th>23</th>\n",
       "      <td>neu</td>\n",
       "    </tr>\n",
       "    <tr>\n",
       "      <th>24</th>\n",
       "      <td>neu</td>\n",
       "    </tr>\n",
       "    <tr>\n",
       "      <th>25</th>\n",
       "      <td>neu</td>\n",
       "    </tr>\n",
       "    <tr>\n",
       "      <th>26</th>\n",
       "      <td>con</td>\n",
       "    </tr>\n",
       "    <tr>\n",
       "      <th>27</th>\n",
       "      <td>con</td>\n",
       "    </tr>\n",
       "    <tr>\n",
       "      <th>28</th>\n",
       "      <td>con</td>\n",
       "    </tr>\n",
       "    <tr>\n",
       "      <th>29</th>\n",
       "      <td>con</td>\n",
       "    </tr>\n",
       "    <tr>\n",
       "      <th>30</th>\n",
       "      <td>con</td>\n",
       "    </tr>\n",
       "    <tr>\n",
       "      <th>31</th>\n",
       "      <td>con</td>\n",
       "    </tr>\n",
       "    <tr>\n",
       "      <th>32</th>\n",
       "      <td>con</td>\n",
       "    </tr>\n",
       "    <tr>\n",
       "      <th>33</th>\n",
       "      <td>incon</td>\n",
       "    </tr>\n",
       "    <tr>\n",
       "      <th>34</th>\n",
       "      <td>incon</td>\n",
       "    </tr>\n",
       "    <tr>\n",
       "      <th>35</th>\n",
       "      <td>con</td>\n",
       "    </tr>\n",
       "    <tr>\n",
       "      <th>36</th>\n",
       "      <td>con</td>\n",
       "    </tr>\n",
       "    <tr>\n",
       "      <th>37</th>\n",
       "      <td>con</td>\n",
       "    </tr>\n",
       "    <tr>\n",
       "      <th>38</th>\n",
       "      <td>con</td>\n",
       "    </tr>\n",
       "    <tr>\n",
       "      <th>39</th>\n",
       "      <td>neu</td>\n",
       "    </tr>\n",
       "  </tbody>\n",
       "</table>\n",
       "</div>"
      ],
      "text/plain": [
       "   trial_type\n",
       "0         con\n",
       "1         con\n",
       "2         neu\n",
       "3         neu\n",
       "4         con\n",
       "5         con\n",
       "6         con\n",
       "7         con\n",
       "8       incon\n",
       "9       incon\n",
       "10      incon\n",
       "11        con\n",
       "12        con\n",
       "13        neu\n",
       "14        neu\n",
       "15      incon\n",
       "16        con\n",
       "17        con\n",
       "18        neu\n",
       "19        con\n",
       "20        con\n",
       "21        neu\n",
       "22        con\n",
       "23        neu\n",
       "24        neu\n",
       "25        neu\n",
       "26        con\n",
       "27        con\n",
       "28        con\n",
       "29        con\n",
       "30        con\n",
       "31        con\n",
       "32        con\n",
       "33      incon\n",
       "34      incon\n",
       "35        con\n",
       "36        con\n",
       "37        con\n",
       "38        con\n",
       "39        neu"
      ]
     },
     "execution_count": 63,
     "metadata": {},
     "output_type": "execute_result"
    }
   ],
   "source": [
    "df"
   ]
  },
  {
   "cell_type": "markdown",
   "metadata": {},
   "source": [
    "# create EV files"
   ]
  },
  {
   "cell_type": "code",
   "execution_count": 67,
   "metadata": {
    "ExecuteTime": {
     "end_time": "2019-07-16T12:59:09.835346Z",
     "start_time": "2019-07-16T12:59:09.689065Z"
    },
    "collapsed": false
   },
   "outputs": [],
   "source": [
    "cue_onset_neu = pd.DataFrame()\n",
    "cue_onset_con = pd.DataFrame()\n",
    "cue_onset_incon = pd.DataFrame()\n",
    "target_onset_neu = pd.DataFrame()\n",
    "target_onset_con = pd.DataFrame()\n",
    "target_onset_incon = pd.DataFrame()\n",
    "# for index in range(1,11):\n",
    "index = 1   \n",
    "sheetname = 'c' + str(index)\n",
    "# load xlsx\n",
    "df = pd.read_excel('/Users/h/Dropbox/Projects/SI.01/coding/design/onset_time_40trial.xlsx', sheet_name = sheetname)\n",
    "\n",
    "# create separate pandas\n",
    "# d = {index: label for index, label in df.groupby('trial_type')}\n",
    "d = {k: df[df['trial_type'] == k] for k in df['trial_type'].unique()}\n",
    "# create EV files based on sheet\n",
    "\n",
    "# 6 files\n",
    "# CUE ____________________\n",
    "# cue_onset neu\n",
    "cue_onset_neu['onset'] = d['neu']['cue_onset'].copy().reset_index(drop=True)\n",
    "cue_onset_neu['duration'] = 0.2\n",
    "cue_onset_neu['magnitude'] = 1\n",
    "# cue_onset con\n",
    "cue_onset_con['onset'] = d['con']['cue_onset'].copy().reset_index(drop=True)\n",
    "cue_onset_con['duration'] = 0.2\n",
    "cue_onset_con['magnitude'] = 1\n",
    "# cue_onset incon\n",
    "cue_onset_incon['onset'] = d['incon']['cue_onset'].copy().reset_index(drop=True)\n",
    "cue_onset_incon['duration'] = 0.2\n",
    "cue_onset_incon['magnitude'] = 1\n",
    "\n",
    "# TARGET ____________________\n",
    "# target_onset neu\n",
    "target_onset_neu['onset'] = d['neu']['target_onset'].copy().reset_index(drop=True)\n",
    "target_onset_neu['duration'] = 2.5\n",
    "target_onset_neu['magnitude'] = 1\n",
    "# target_onset con\n",
    "target_onset_con['onset'] = d['con']['target_onset'].copy().reset_index(drop=True)\n",
    "target_onset_con['duration'] = 2.5\n",
    "target_onset_con['magnitude'] = 1\n",
    "# target_onset incon\n",
    "target_onset_incon['onset'] = d['incon']['target_onset'].copy().reset_index(drop=True)\n",
    "target_onset_incon['duration'] = 2.5\n",
    "target_onset_incon['magnitude'] = 1\n",
    "\n",
    "# SAVE _________________________\n",
    "sub_run_dir = '/Users/h/Dropbox/Projects/SI.01/coding/data/sub-01/run-01'\n",
    "cue_onset_neu_fname = os.sep.join([sub_run_dir, 'face_CUE_neu_40.txt'])\n",
    "cue_onset_neu.to_csv(cue_onset_neu_fname, index = False, header = False, sep = '\\t')\n",
    "\n",
    "cue_onset_con_fname = os.sep.join([sub_run_dir, 'face_CUE_con_40.txt'])\n",
    "cue_onset_con.to_csv(cue_onset_con_fname, index = False, header = False, sep = '\\t')\n",
    "\n",
    "cue_onset_incon_fname = os.sep.join([sub_run_dir, 'face_CUE_incon_40.txt'])\n",
    "cue_onset_incon.to_csv(cue_onset_incon_fname, index = False, header = False, sep = '\\t')\n",
    "\n",
    "target_onset_neu_fname = os.sep.join([sub_run_dir, 'face_TARGET_neu_40.txt'])\n",
    "target_onset_neu.to_csv(target_onset_neu_fname, index = False, header = False, sep = '\\t')\n",
    "\n",
    "target_onset_con_fname = os.sep.join([sub_run_dir, 'face_TARGET_con_40.txt'])\n",
    "target_onset_con.to_csv(target_onset_con_fname, index = False, header = False, sep = '\\t')\n",
    "\n",
    "target_onset_incon_fname = os.sep.join([sub_run_dir, 'face_TARGET_incon_40.txt'])\n",
    "target_onset_incon.to_csv(target_onset_incon_fname, index = False, header = False, sep = '\\t')"
   ]
  },
  {
   "cell_type": "code",
   "execution_count": 68,
   "metadata": {
    "ExecuteTime": {
     "end_time": "2019-07-16T12:59:22.379005Z",
     "start_time": "2019-07-16T12:59:22.341271Z"
    },
    "collapsed": false
   },
   "outputs": [
    {
     "data": {
      "text/html": [
       "<div>\n",
       "<table border=\"1\" class=\"dataframe\">\n",
       "  <thead>\n",
       "    <tr style=\"text-align: right;\">\n",
       "      <th></th>\n",
       "      <th>fixation</th>\n",
       "      <th>cue</th>\n",
       "      <th>target</th>\n",
       "      <th>fixation_onset</th>\n",
       "      <th>cue_onset</th>\n",
       "      <th>target_onset</th>\n",
       "      <th>trial_type</th>\n",
       "    </tr>\n",
       "  </thead>\n",
       "  <tbody>\n",
       "    <tr>\n",
       "      <th>2</th>\n",
       "      <td>2.169371</td>\n",
       "      <td>0.2</td>\n",
       "      <td>2.5</td>\n",
       "      <td>14.531287</td>\n",
       "      <td>14.731287</td>\n",
       "      <td>17.231287</td>\n",
       "      <td>neu</td>\n",
       "    </tr>\n",
       "    <tr>\n",
       "      <th>3</th>\n",
       "      <td>1.601556</td>\n",
       "      <td>0.2</td>\n",
       "      <td>2.5</td>\n",
       "      <td>18.832843</td>\n",
       "      <td>19.032843</td>\n",
       "      <td>21.532843</td>\n",
       "      <td>neu</td>\n",
       "    </tr>\n",
       "    <tr>\n",
       "      <th>13</th>\n",
       "      <td>3.345625</td>\n",
       "      <td>0.2</td>\n",
       "      <td>2.5</td>\n",
       "      <td>67.990007</td>\n",
       "      <td>68.190007</td>\n",
       "      <td>70.690007</td>\n",
       "      <td>neu</td>\n",
       "    </tr>\n",
       "    <tr>\n",
       "      <th>14</th>\n",
       "      <td>2.275952</td>\n",
       "      <td>0.2</td>\n",
       "      <td>2.5</td>\n",
       "      <td>72.965959</td>\n",
       "      <td>73.165959</td>\n",
       "      <td>75.665959</td>\n",
       "      <td>neu</td>\n",
       "    </tr>\n",
       "    <tr>\n",
       "      <th>18</th>\n",
       "      <td>2.365575</td>\n",
       "      <td>0.2</td>\n",
       "      <td>2.5</td>\n",
       "      <td>93.476261</td>\n",
       "      <td>93.676261</td>\n",
       "      <td>96.176261</td>\n",
       "      <td>neu</td>\n",
       "    </tr>\n",
       "    <tr>\n",
       "      <th>21</th>\n",
       "      <td>1.564318</td>\n",
       "      <td>0.2</td>\n",
       "      <td>2.5</td>\n",
       "      <td>111.041761</td>\n",
       "      <td>111.241761</td>\n",
       "      <td>113.741761</td>\n",
       "      <td>neu</td>\n",
       "    </tr>\n",
       "    <tr>\n",
       "      <th>23</th>\n",
       "      <td>1.424047</td>\n",
       "      <td>0.2</td>\n",
       "      <td>2.5</td>\n",
       "      <td>118.642898</td>\n",
       "      <td>118.842898</td>\n",
       "      <td>121.342898</td>\n",
       "      <td>neu</td>\n",
       "    </tr>\n",
       "    <tr>\n",
       "      <th>24</th>\n",
       "      <td>1.115030</td>\n",
       "      <td>0.2</td>\n",
       "      <td>2.5</td>\n",
       "      <td>122.457928</td>\n",
       "      <td>122.657928</td>\n",
       "      <td>125.157928</td>\n",
       "      <td>neu</td>\n",
       "    </tr>\n",
       "    <tr>\n",
       "      <th>25</th>\n",
       "      <td>3.638746</td>\n",
       "      <td>0.2</td>\n",
       "      <td>2.5</td>\n",
       "      <td>128.796674</td>\n",
       "      <td>128.996674</td>\n",
       "      <td>131.496674</td>\n",
       "      <td>neu</td>\n",
       "    </tr>\n",
       "    <tr>\n",
       "      <th>39</th>\n",
       "      <td>1.704566</td>\n",
       "      <td>0.2</td>\n",
       "      <td>2.5</td>\n",
       "      <td>215.300000</td>\n",
       "      <td>215.500000</td>\n",
       "      <td>218.000000</td>\n",
       "      <td>neu</td>\n",
       "    </tr>\n",
       "  </tbody>\n",
       "</table>\n",
       "</div>"
      ],
      "text/plain": [
       "    fixation  cue  target  fixation_onset   cue_onset  target_onset trial_type\n",
       "2   2.169371  0.2     2.5       14.531287   14.731287     17.231287        neu\n",
       "3   1.601556  0.2     2.5       18.832843   19.032843     21.532843        neu\n",
       "13  3.345625  0.2     2.5       67.990007   68.190007     70.690007        neu\n",
       "14  2.275952  0.2     2.5       72.965959   73.165959     75.665959        neu\n",
       "18  2.365575  0.2     2.5       93.476261   93.676261     96.176261        neu\n",
       "21  1.564318  0.2     2.5      111.041761  111.241761    113.741761        neu\n",
       "23  1.424047  0.2     2.5      118.642898  118.842898    121.342898        neu\n",
       "24  1.115030  0.2     2.5      122.457928  122.657928    125.157928        neu\n",
       "25  3.638746  0.2     2.5      128.796674  128.996674    131.496674        neu\n",
       "39  1.704566  0.2     2.5      215.300000  215.500000    218.000000        neu"
      ]
     },
     "execution_count": 68,
     "metadata": {},
     "output_type": "execute_result"
    }
   ],
   "source": [
    "d['neu']"
   ]
  },
  {
   "cell_type": "code",
   "execution_count": 69,
   "metadata": {
    "ExecuteTime": {
     "end_time": "2019-07-16T12:59:26.106873Z",
     "start_time": "2019-07-16T12:59:26.090831Z"
    },
    "collapsed": false
   },
   "outputs": [
    {
     "data": {
      "text/plain": [
       "0     47.256323\n",
       "1     50.347224\n",
       "2     56.002990\n",
       "3     80.546489\n",
       "4    181.152461\n",
       "5    190.175347\n",
       "Name: onset, dtype: float64"
      ]
     },
     "execution_count": 69,
     "metadata": {},
     "output_type": "execute_result"
    }
   ],
   "source": [
    "cue_onset_neu['onset']\n",
    "cue_onset_con['onset']\n",
    "cue_onset_incon['onset']\n",
    "target_onset_neu['onset']\n",
    "target_onset_con['onset']\n",
    "target_onset_incon['onset']"
   ]
  },
  {
   "cell_type": "code",
   "execution_count": null,
   "metadata": {
    "collapsed": true
   },
   "outputs": [],
   "source": []
  }
 ],
 "metadata": {
  "anaconda-cloud": {},
  "kernelspec": {
   "display_name": "Python [conda env:anaconda2]",
   "language": "python",
   "name": "conda-env-anaconda2-py"
  },
  "language_info": {
   "codemirror_mode": {
    "name": "ipython",
    "version": 2
   },
   "file_extension": ".py",
   "mimetype": "text/x-python",
   "name": "python",
   "nbconvert_exporter": "python",
   "pygments_lexer": "ipython2",
   "version": "2.7.6"
  },
  "toc": {
   "colors": {
    "hover_highlight": "#DAA520",
    "running_highlight": "#FF0000",
    "selected_highlight": "#FFD700"
   },
   "moveMenuLeft": true,
   "nav_menu": {
    "height": "86px",
    "width": "252px"
   },
   "navigate_menu": true,
   "number_sections": true,
   "sideBar": true,
   "threshold": 4,
   "toc_cell": false,
   "toc_section_display": "block",
   "toc_window_display": true,
   "widenNotebook": false
  }
 },
 "nbformat": 4,
 "nbformat_minor": 2
}
